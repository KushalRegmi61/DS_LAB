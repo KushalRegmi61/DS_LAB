{
 "cells": [
  {
   "cell_type": "code",
   "execution_count": 70,
   "metadata": {},
   "outputs": [],
   "source": [
    "import numpy as np\n",
    "import matplotlib.pyplot as plt"
   ]
  },
  {
   "cell_type": "code",
   "execution_count": 71,
   "metadata": {},
   "outputs": [
    {
     "name": "stdout",
     "output_type": "stream",
     "text": [
      "[[2.5 3.5]\n",
      " [0.5 1.5]\n",
      " [1.5 2. ]\n",
      " [3.  4. ]\n",
      " [4.5 6. ]\n",
      " [6.  7.5]\n",
      " [7.  9. ]\n",
      " [8.  8.5]\n",
      " [5.5 7. ]\n",
      " [6.5 8. ]]\n"
     ]
    }
   ],
   "source": [
    "\n",
    "# Define the shape of the array (e.g., 3x4 array)\n",
    "shape = (10, 2)\n",
    "\n",
    "np.random.seed(10)\n",
    "\n",
    "# Generate a random array of integers between 0 and 10\n",
    "X = np.array([\n",
    "    [2.5, 3.5],\n",
    "    [0.5, 1.5],\n",
    "    [1.5, 2.0],\n",
    "    [3.0, 4.0],\n",
    "    [4.5, 6.0],\n",
    "    [6.0, 7.5],\n",
    "    [7.0, 9.0],\n",
    "    [8.0, 8.5],\n",
    "    [5.5, 7.0],\n",
    "    [6.5, 8.0]\n",
    "])\n",
    "\n",
    "\n",
    "random_array = X\n",
    "print(random_array)\n"
   ]
  },
  {
   "cell_type": "code",
   "execution_count": 72,
   "metadata": {},
   "outputs": [
    {
     "data": {
      "text/plain": [
       "<matplotlib.collections.PathCollection at 0x2d61f1d8b90>"
      ]
     },
     "execution_count": 72,
     "metadata": {},
     "output_type": "execute_result"
    },
    {
     "data": {
      "image/png": "[encoded data removed]",
      "text/plain": [
       "<Figure size 640x480 with 1 Axes>"
      ]
     },
     "metadata": {},
     "output_type": "display_data"
    }
   ],
   "source": [
    "\n",
    "plt.scatter(random_array[:, 0], random_array[:, 1])"
   ]
  },
  {
   "cell_type": "code",
   "execution_count": 73,
   "metadata": {},
   "outputs": [
    {
     "name": "stdout",
     "output_type": "stream",
     "text": [
      "[4.5 5.7]\n",
      "[3.   1.   1.75 3.5  5.25 6.75 8.   8.25 6.25 7.25]\n"
     ]
    }
   ],
   "source": [
    "mean_arry = np.mean(random_array, axis=0)\n",
    "print(mean_arry)\n",
    "\n",
    "print(np.mean(random_array, axis=1))"
   ]
  },
  {
   "cell_type": "code",
   "execution_count": 74,
   "metadata": {},
   "outputs": [
    {
     "name": "stdout",
     "output_type": "stream",
     "text": [
      "[[-2.  -2.2]\n",
      " [-4.  -4.2]\n",
      " [-3.  -3.7]\n",
      " [-1.5 -1.7]\n",
      " [ 0.   0.3]\n",
      " [ 1.5  1.8]\n",
      " [ 2.5  3.3]\n",
      " [ 3.5  2.8]\n",
      " [ 1.   1.3]\n",
      " [ 2.   2.3]]\n"
     ]
    }
   ],
   "source": [
    "# centered data\n",
    "centered_data = random_array - mean_arry\n",
    "print(centered_data)"
   ]
  },
  {
   "cell_type": "code",
   "execution_count": 75,
   "metadata": {},
   "outputs": [
    {
     "data": {
      "text/plain": [
       "<matplotlib.collections.PathCollection at 0x2d61f26c7d0>"
      ]
     },
     "execution_count": 75,
     "metadata": {},
     "output_type": "execute_result"
    },
    {
     "data": {
      "image/png": "[encoded data removed]",
      "text/plain": [
       "<Figure size 640x480 with 1 Axes>"
      ]
     },
     "metadata": {},
     "output_type": "display_data"
    }
   ],
   "source": [
    "plt.scatter(centered_data[:, 0 ], centered_data[:, 1])"
   ]
  },
  {
   "cell_type": "code",
   "execution_count": 76,
   "metadata": {},
   "outputs": [
    {
     "name": "stdout",
     "output_type": "stream",
     "text": [
      "[[6.33333333 6.83333333]\n",
      " [6.83333333 7.56666667]]\n"
     ]
    }
   ],
   "source": [
    "# calculating the covariance matrix : step 2\n",
    "cov_matrix  = np.cov(centered_data, rowvar=False)\n",
    "\n",
    "print(cov_matrix)"
   ]
  },
  {
   "cell_type": "code",
   "execution_count": 77,
   "metadata": {},
   "outputs": [
    {
     "name": "stdout",
     "output_type": "stream",
     "text": [
      "[ 0.08889789 13.81110211]\n",
      "[[-0.73820006 -0.67458185]\n",
      " [ 0.67458185 -0.73820006]]\n"
     ]
    }
   ],
   "source": [
    "# step 3: calculating eigen_values, normalized eigen_vector\n",
    "eigen_values, eigen_vecors = np.linalg.eig(cov_matrix)\n",
    "print(eigen_values)\n",
    "print(eigen_vecors)"
   ]
  },
  {
   "cell_type": "code",
   "execution_count": 82,
   "metadata": {},
   "outputs": [],
   "source": [
    "# Note\n",
    "# highest eigenvalue value vector should be first column \n",
    "# arrange the column first to calculate the principal component\n",
    "\n",
    "V = eigen_vecors[: , [1, 0]] # arrange according to highest eigen_value\n",
    "\n",
    "# np.argmax()"
   ]
  },
  {
   "cell_type": "code",
   "execution_count": 83,
   "metadata": {},
   "outputs": [
    {
     "name": "stdout",
     "output_type": "stream",
     "text": [
      "[[ 2.97320383 -0.00767994]\n",
      " [ 5.79876765  0.11955648]\n",
      " [ 4.75508577 -0.28135265]\n",
      " [ 2.26681288 -0.03948905]\n",
      " [-0.22146002  0.20237455]\n",
      " [-2.34063288  0.10694723]\n",
      " [-4.12251482  0.38061995]\n",
      " [-4.42799664 -0.69487104]\n",
      " [-1.63424193  0.13875634]\n",
      " [-3.04702384  0.07513813]]\n"
     ]
    }
   ],
   "source": [
    "# calculating the dot product\n",
    "DV = np.dot(centered_data, V)\n",
    "\n",
    "print(DV)"
   ]
  },
  {
   "cell_type": "code",
   "execution_count": 87,
   "metadata": {},
   "outputs": [
    {
     "data": {
      "text/plain": [
       "<matplotlib.legend.Legend at 0x2d621080e10>"
      ]
     },
     "execution_count": 87,
     "metadata": {},
     "output_type": "execute_result"
    },
    {
     "data": {
      "image/png": "[encoded data removed]",
      "text/plain": [
       "<Figure size 640x480 with 1 Axes>"
      ]
     },
     "metadata": {},
     "output_type": "display_data"
    }
   ],
   "source": [
    "plt.xlim(-5, 5)\n",
    "plt.ylim(-5, 5)\n",
    "plt.quiver(0, 0, [1], [0], color = 'r', label='pc_1', scale=3)\n",
    "plt.quiver(0, 0, [0], [1], color = 'b', label='pc_2', scale=3)\n",
    "\n",
    "\n",
    "plt.scatter(DV[:, 0], DV[:,1])\n",
    "\n",
    "plt.grid()\n",
    "plt.legend()"
   ]
  },
  {
   "cell_type": "code",
   "execution_count": 133,
   "metadata": {},
   "outputs": [
    {
     "name": "stdout",
     "output_type": "stream",
     "text": [
      "[0 0 0 0 0 0 0 0 0 0 0 0 0 0 0 0 0 0 0 0 0 0 0 0 0 0 0 0 0 0 0 0 0 0 0 0 0\n",
      " 0 0 0 0 0 0 0 0 0 0 0 0 0 1 1 1 1 1 1 1 1 1 1 1 1 1 1 1 1 1 1 1 1 1 1 1 1\n",
      " 1 1 1 1 1 1 1 1 1 1 1 1 1 1 1 1 1 1 1 1 1 1 1 1 1 1 2 2 2 2 2 2 2 2 2 2 2\n",
      " 2 2 2 2 2 2 2 2 2 2 2 2 2 2 2 2 2 2 2 2 2 2 2 2 2 2 2 2 2 2 2 2 2 2 2 2 2\n",
      " 2 2]\n"
     ]
    }
   ],
   "source": [
    "from sklearn.datasets import load_iris\n",
    "\n",
    "\n",
    "iris = load_iris()\n",
    "\n",
    "\n",
    "data = iris.data\n",
    "\n",
    "target_names = iris.target_names\n",
    "\n",
    "target = iris.target\n",
    "\n",
    "\n",
    "\n",
    "print(target)\n",
    "\n"
   ]
  },
  {
   "cell_type": "code",
   "execution_count": 101,
   "metadata": {},
   "outputs": [
    {
     "data": {
      "text/plain": [
       "array([[-7.43333333e-01,  4.42666667e-01, -2.35800000e+00,\n",
       "        -9.99333333e-01],\n",
       "       [-9.43333333e-01, -5.73333333e-02, -2.35800000e+00,\n",
       "        -9.99333333e-01],\n",
       "       [-1.14333333e+00,  1.42666667e-01, -2.45800000e+00,\n",
       "        -9.99333333e-01],\n",
       "       [-1.24333333e+00,  4.26666667e-02, -2.25800000e+00,\n",
       "        -9.99333333e-01],\n",
       "       [-8.43333333e-01,  5.42666667e-01, -2.35800000e+00,\n",
       "        -9.99333333e-01],\n",
       "       [-4.43333333e-01,  8.42666667e-01, -2.05800000e+00,\n",
       "        -7.99333333e-01],\n",
       "       [-1.24333333e+00,  3.42666667e-01, -2.35800000e+00,\n",
       "        -8.99333333e-01],\n",
       "       [-8.43333333e-01,  3.42666667e-01, -2.25800000e+00,\n",
       "        -9.99333333e-01],\n",
       "       [-1.44333333e+00, -1.57333333e-01, -2.35800000e+00,\n",
       "        -9.99333333e-01],\n",
       "       [-9.43333333e-01,  4.26666667e-02, -2.25800000e+00,\n",
       "        -1.09933333e+00],\n",
       "       [-4.43333333e-01,  6.42666667e-01, -2.25800000e+00,\n",
       "        -9.99333333e-01],\n",
       "       [-1.04333333e+00,  3.42666667e-01, -2.15800000e+00,\n",
       "        -9.99333333e-01],\n",
       "       [-1.04333333e+00, -5.73333333e-02, -2.35800000e+00,\n",
       "        -1.09933333e+00],\n",
       "       [-1.54333333e+00, -5.73333333e-02, -2.65800000e+00,\n",
       "        -1.09933333e+00],\n",
       "       [-4.33333333e-02,  9.42666667e-01, -2.55800000e+00,\n",
       "        -9.99333333e-01],\n",
       "       [-1.43333333e-01,  1.34266667e+00, -2.25800000e+00,\n",
       "        -7.99333333e-01],\n",
       "       [-4.43333333e-01,  8.42666667e-01, -2.45800000e+00,\n",
       "        -7.99333333e-01],\n",
       "       [-7.43333333e-01,  4.42666667e-01, -2.35800000e+00,\n",
       "        -8.99333333e-01],\n",
       "       [-1.43333333e-01,  7.42666667e-01, -2.05800000e+00,\n",
       "        -8.99333333e-01],\n",
       "       [-7.43333333e-01,  7.42666667e-01, -2.25800000e+00,\n",
       "        -8.99333333e-01],\n",
       "       [-4.43333333e-01,  3.42666667e-01, -2.05800000e+00,\n",
       "        -9.99333333e-01],\n",
       "       [-7.43333333e-01,  6.42666667e-01, -2.25800000e+00,\n",
       "        -7.99333333e-01],\n",
       "       [-1.24333333e+00,  5.42666667e-01, -2.75800000e+00,\n",
       "        -9.99333333e-01],\n",
       "       [-7.43333333e-01,  2.42666667e-01, -2.05800000e+00,\n",
       "        -6.99333333e-01],\n",
       "       [-1.04333333e+00,  3.42666667e-01, -1.85800000e+00,\n",
       "        -9.99333333e-01],\n",
       "       [-8.43333333e-01, -5.73333333e-02, -2.15800000e+00,\n",
       "        -9.99333333e-01],\n",
       "       [-8.43333333e-01,  3.42666667e-01, -2.15800000e+00,\n",
       "        -7.99333333e-01],\n",
       "       [-6.43333333e-01,  4.42666667e-01, -2.25800000e+00,\n",
       "        -9.99333333e-01],\n",
       "       [-6.43333333e-01,  3.42666667e-01, -2.35800000e+00,\n",
       "        -9.99333333e-01],\n",
       "       [-1.14333333e+00,  1.42666667e-01, -2.15800000e+00,\n",
       "        -9.99333333e-01],\n",
       "       [-1.04333333e+00,  4.26666667e-02, -2.15800000e+00,\n",
       "        -9.99333333e-01],\n",
       "       [-4.43333333e-01,  3.42666667e-01, -2.25800000e+00,\n",
       "        -7.99333333e-01],\n",
       "       [-6.43333333e-01,  1.04266667e+00, -2.25800000e+00,\n",
       "        -1.09933333e+00],\n",
       "       [-3.43333333e-01,  1.14266667e+00, -2.35800000e+00,\n",
       "        -9.99333333e-01],\n",
       "       [-9.43333333e-01,  4.26666667e-02, -2.25800000e+00,\n",
       "        -9.99333333e-01],\n",
       "       [-8.43333333e-01,  1.42666667e-01, -2.55800000e+00,\n",
       "        -9.99333333e-01],\n",
       "       [-3.43333333e-01,  4.42666667e-01, -2.45800000e+00,\n",
       "        -9.99333333e-01],\n",
       "       [-9.43333333e-01,  5.42666667e-01, -2.35800000e+00,\n",
       "        -1.09933333e+00],\n",
       "       [-1.44333333e+00, -5.73333333e-02, -2.45800000e+00,\n",
       "        -9.99333333e-01],\n",
       "       [-7.43333333e-01,  3.42666667e-01, -2.25800000e+00,\n",
       "        -9.99333333e-01],\n",
       "       [-8.43333333e-01,  4.42666667e-01, -2.45800000e+00,\n",
       "        -8.99333333e-01],\n",
       "       [-1.34333333e+00, -7.57333333e-01, -2.45800000e+00,\n",
       "        -8.99333333e-01],\n",
       "       [-1.44333333e+00,  1.42666667e-01, -2.45800000e+00,\n",
       "        -9.99333333e-01],\n",
       "       [-8.43333333e-01,  4.42666667e-01, -2.15800000e+00,\n",
       "        -5.99333333e-01],\n",
       "       [-7.43333333e-01,  7.42666667e-01, -1.85800000e+00,\n",
       "        -7.99333333e-01],\n",
       "       [-1.04333333e+00, -5.73333333e-02, -2.35800000e+00,\n",
       "        -8.99333333e-01],\n",
       "       [-7.43333333e-01,  7.42666667e-01, -2.15800000e+00,\n",
       "        -9.99333333e-01],\n",
       "       [-1.24333333e+00,  1.42666667e-01, -2.35800000e+00,\n",
       "        -9.99333333e-01],\n",
       "       [-5.43333333e-01,  6.42666667e-01, -2.25800000e+00,\n",
       "        -9.99333333e-01],\n",
       "       [-8.43333333e-01,  2.42666667e-01, -2.35800000e+00,\n",
       "        -9.99333333e-01],\n",
       "       [ 1.15666667e+00,  1.42666667e-01,  9.42000000e-01,\n",
       "         2.00666667e-01],\n",
       "       [ 5.56666667e-01,  1.42666667e-01,  7.42000000e-01,\n",
       "         3.00666667e-01],\n",
       "       [ 1.05666667e+00,  4.26666667e-02,  1.14200000e+00,\n",
       "         3.00666667e-01],\n",
       "       [-3.43333333e-01, -7.57333333e-01,  2.42000000e-01,\n",
       "         1.00666667e-01],\n",
       "       [ 6.56666667e-01, -2.57333333e-01,  8.42000000e-01,\n",
       "         3.00666667e-01],\n",
       "       [-1.43333333e-01, -2.57333333e-01,  7.42000000e-01,\n",
       "         1.00666667e-01],\n",
       "       [ 4.56666667e-01,  2.42666667e-01,  9.42000000e-01,\n",
       "         4.00666667e-01],\n",
       "       [-9.43333333e-01, -6.57333333e-01, -4.58000000e-01,\n",
       "        -1.99333333e-01],\n",
       "       [ 7.56666667e-01, -1.57333333e-01,  8.42000000e-01,\n",
       "         1.00666667e-01],\n",
       "       [-6.43333333e-01, -3.57333333e-01,  1.42000000e-01,\n",
       "         2.00666667e-01],\n",
       "       [-8.43333333e-01, -1.05733333e+00, -2.58000000e-01,\n",
       "        -1.99333333e-01],\n",
       "       [ 5.66666667e-02, -5.73333333e-02,  4.42000000e-01,\n",
       "         3.00666667e-01],\n",
       "       [ 1.56666667e-01, -8.57333333e-01,  2.42000000e-01,\n",
       "        -1.99333333e-01],\n",
       "       [ 2.56666667e-01, -1.57333333e-01,  9.42000000e-01,\n",
       "         2.00666667e-01],\n",
       "       [-2.43333333e-01, -1.57333333e-01, -1.58000000e-01,\n",
       "         1.00666667e-01],\n",
       "       [ 8.56666667e-01,  4.26666667e-02,  6.42000000e-01,\n",
       "         2.00666667e-01],\n",
       "       [-2.43333333e-01, -5.73333333e-02,  7.42000000e-01,\n",
       "         3.00666667e-01],\n",
       "       [-4.33333333e-02, -3.57333333e-01,  3.42000000e-01,\n",
       "        -1.99333333e-01],\n",
       "       [ 3.56666667e-01, -8.57333333e-01,  7.42000000e-01,\n",
       "         3.00666667e-01],\n",
       "       [-2.43333333e-01, -5.57333333e-01,  1.42000000e-01,\n",
       "        -9.93333333e-02],\n",
       "       [ 5.66666667e-02,  1.42666667e-01,  1.04200000e+00,\n",
       "         6.00666667e-01],\n",
       "       [ 2.56666667e-01, -2.57333333e-01,  2.42000000e-01,\n",
       "         1.00666667e-01],\n",
       "       [ 4.56666667e-01, -5.57333333e-01,  1.14200000e+00,\n",
       "         3.00666667e-01],\n",
       "       [ 2.56666667e-01, -2.57333333e-01,  9.42000000e-01,\n",
       "         6.66666667e-04],\n",
       "       [ 5.56666667e-01, -1.57333333e-01,  5.42000000e-01,\n",
       "         1.00666667e-01],\n",
       "       [ 7.56666667e-01, -5.73333333e-02,  6.42000000e-01,\n",
       "         2.00666667e-01],\n",
       "       [ 9.56666667e-01, -2.57333333e-01,  1.04200000e+00,\n",
       "         2.00666667e-01],\n",
       "       [ 8.56666667e-01, -5.73333333e-02,  1.24200000e+00,\n",
       "         5.00666667e-01],\n",
       "       [ 1.56666667e-01, -1.57333333e-01,  7.42000000e-01,\n",
       "         3.00666667e-01],\n",
       "       [-1.43333333e-01, -4.57333333e-01, -2.58000000e-01,\n",
       "        -1.99333333e-01],\n",
       "       [-3.43333333e-01, -6.57333333e-01,  4.20000000e-02,\n",
       "        -9.93333333e-02],\n",
       "       [-3.43333333e-01, -6.57333333e-01, -5.80000000e-02,\n",
       "        -1.99333333e-01],\n",
       "       [-4.33333333e-02, -3.57333333e-01,  1.42000000e-01,\n",
       "         6.66666667e-04],\n",
       "       [ 1.56666667e-01, -3.57333333e-01,  1.34200000e+00,\n",
       "         4.00666667e-01],\n",
       "       [-4.43333333e-01, -5.73333333e-02,  7.42000000e-01,\n",
       "         3.00666667e-01],\n",
       "       [ 1.56666667e-01,  3.42666667e-01,  7.42000000e-01,\n",
       "         4.00666667e-01],\n",
       "       [ 8.56666667e-01,  4.26666667e-02,  9.42000000e-01,\n",
       "         3.00666667e-01],\n",
       "       [ 4.56666667e-01, -7.57333333e-01,  6.42000000e-01,\n",
       "         1.00666667e-01],\n",
       "       [-2.43333333e-01, -5.73333333e-02,  3.42000000e-01,\n",
       "         1.00666667e-01],\n",
       "       [-3.43333333e-01, -5.57333333e-01,  2.42000000e-01,\n",
       "         1.00666667e-01],\n",
       "       [-3.43333333e-01, -4.57333333e-01,  6.42000000e-01,\n",
       "         6.66666667e-04],\n",
       "       [ 2.56666667e-01, -5.73333333e-02,  8.42000000e-01,\n",
       "         2.00666667e-01],\n",
       "       [-4.33333333e-02, -4.57333333e-01,  2.42000000e-01,\n",
       "         6.66666667e-04],\n",
       "       [-8.43333333e-01, -7.57333333e-01, -4.58000000e-01,\n",
       "        -1.99333333e-01],\n",
       "       [-2.43333333e-01, -3.57333333e-01,  4.42000000e-01,\n",
       "         1.00666667e-01],\n",
       "       [-1.43333333e-01, -5.73333333e-02,  4.42000000e-01,\n",
       "         6.66666667e-04],\n",
       "       [-1.43333333e-01, -1.57333333e-01,  4.42000000e-01,\n",
       "         1.00666667e-01],\n",
       "       [ 3.56666667e-01, -1.57333333e-01,  5.42000000e-01,\n",
       "         1.00666667e-01],\n",
       "       [-7.43333333e-01, -5.57333333e-01, -7.58000000e-01,\n",
       "        -9.93333333e-02],\n",
       "       [-1.43333333e-01, -2.57333333e-01,  3.42000000e-01,\n",
       "         1.00666667e-01],\n",
       "       [ 4.56666667e-01,  2.42666667e-01,  2.24200000e+00,\n",
       "         1.30066667e+00],\n",
       "       [-4.33333333e-02, -3.57333333e-01,  1.34200000e+00,\n",
       "         7.00666667e-01],\n",
       "       [ 1.25666667e+00, -5.73333333e-02,  2.14200000e+00,\n",
       "         9.00666667e-01],\n",
       "       [ 4.56666667e-01, -1.57333333e-01,  1.84200000e+00,\n",
       "         6.00666667e-01],\n",
       "       [ 6.56666667e-01, -5.73333333e-02,  2.04200000e+00,\n",
       "         1.00066667e+00],\n",
       "       [ 1.75666667e+00, -5.73333333e-02,  2.84200000e+00,\n",
       "         9.00666667e-01],\n",
       "       [-9.43333333e-01, -5.57333333e-01,  7.42000000e-01,\n",
       "         5.00666667e-01],\n",
       "       [ 1.45666667e+00, -1.57333333e-01,  2.54200000e+00,\n",
       "         6.00666667e-01],\n",
       "       [ 8.56666667e-01, -5.57333333e-01,  2.04200000e+00,\n",
       "         6.00666667e-01],\n",
       "       [ 1.35666667e+00,  5.42666667e-01,  2.34200000e+00,\n",
       "         1.30066667e+00],\n",
       "       [ 6.56666667e-01,  1.42666667e-01,  1.34200000e+00,\n",
       "         8.00666667e-01],\n",
       "       [ 5.56666667e-01, -3.57333333e-01,  1.54200000e+00,\n",
       "         7.00666667e-01],\n",
       "       [ 9.56666667e-01, -5.73333333e-02,  1.74200000e+00,\n",
       "         9.00666667e-01],\n",
       "       [-1.43333333e-01, -5.57333333e-01,  1.24200000e+00,\n",
       "         8.00666667e-01],\n",
       "       [-4.33333333e-02, -2.57333333e-01,  1.34200000e+00,\n",
       "         1.20066667e+00],\n",
       "       [ 5.56666667e-01,  1.42666667e-01,  1.54200000e+00,\n",
       "         1.10066667e+00],\n",
       "       [ 6.56666667e-01, -5.73333333e-02,  1.74200000e+00,\n",
       "         6.00666667e-01],\n",
       "       [ 1.85666667e+00,  7.42666667e-01,  2.94200000e+00,\n",
       "         1.00066667e+00],\n",
       "       [ 1.85666667e+00, -4.57333333e-01,  3.14200000e+00,\n",
       "         1.10066667e+00],\n",
       "       [ 1.56666667e-01, -8.57333333e-01,  1.24200000e+00,\n",
       "         3.00666667e-01],\n",
       "       [ 1.05666667e+00,  1.42666667e-01,  1.94200000e+00,\n",
       "         1.10066667e+00],\n",
       "       [-2.43333333e-01, -2.57333333e-01,  1.14200000e+00,\n",
       "         8.00666667e-01],\n",
       "       [ 1.85666667e+00, -2.57333333e-01,  2.94200000e+00,\n",
       "         8.00666667e-01],\n",
       "       [ 4.56666667e-01, -3.57333333e-01,  1.14200000e+00,\n",
       "         6.00666667e-01],\n",
       "       [ 8.56666667e-01,  2.42666667e-01,  1.94200000e+00,\n",
       "         9.00666667e-01],\n",
       "       [ 1.35666667e+00,  1.42666667e-01,  2.24200000e+00,\n",
       "         6.00666667e-01],\n",
       "       [ 3.56666667e-01, -2.57333333e-01,  1.04200000e+00,\n",
       "         6.00666667e-01],\n",
       "       [ 2.56666667e-01, -5.73333333e-02,  1.14200000e+00,\n",
       "         6.00666667e-01],\n",
       "       [ 5.56666667e-01, -2.57333333e-01,  1.84200000e+00,\n",
       "         9.00666667e-01],\n",
       "       [ 1.35666667e+00, -5.73333333e-02,  2.04200000e+00,\n",
       "         4.00666667e-01],\n",
       "       [ 1.55666667e+00, -2.57333333e-01,  2.34200000e+00,\n",
       "         7.00666667e-01],\n",
       "       [ 2.05666667e+00,  7.42666667e-01,  2.64200000e+00,\n",
       "         8.00666667e-01],\n",
       "       [ 5.56666667e-01, -2.57333333e-01,  1.84200000e+00,\n",
       "         1.00066667e+00],\n",
       "       [ 4.56666667e-01, -2.57333333e-01,  1.34200000e+00,\n",
       "         3.00666667e-01],\n",
       "       [ 2.56666667e-01, -4.57333333e-01,  1.84200000e+00,\n",
       "         2.00666667e-01],\n",
       "       [ 1.85666667e+00, -5.73333333e-02,  2.34200000e+00,\n",
       "         1.10066667e+00],\n",
       "       [ 4.56666667e-01,  3.42666667e-01,  1.84200000e+00,\n",
       "         1.20066667e+00],\n",
       "       [ 5.56666667e-01,  4.26666667e-02,  1.74200000e+00,\n",
       "         6.00666667e-01],\n",
       "       [ 1.56666667e-01, -5.73333333e-02,  1.04200000e+00,\n",
       "         6.00666667e-01],\n",
       "       [ 1.05666667e+00,  4.26666667e-02,  1.64200000e+00,\n",
       "         9.00666667e-01],\n",
       "       [ 8.56666667e-01,  4.26666667e-02,  1.84200000e+00,\n",
       "         1.20066667e+00],\n",
       "       [ 1.05666667e+00,  4.26666667e-02,  1.34200000e+00,\n",
       "         1.10066667e+00],\n",
       "       [-4.33333333e-02, -3.57333333e-01,  1.34200000e+00,\n",
       "         7.00666667e-01],\n",
       "       [ 9.56666667e-01,  1.42666667e-01,  2.14200000e+00,\n",
       "         1.10066667e+00],\n",
       "       [ 8.56666667e-01,  2.42666667e-01,  1.94200000e+00,\n",
       "         1.30066667e+00],\n",
       "       [ 8.56666667e-01, -5.73333333e-02,  1.44200000e+00,\n",
       "         1.10066667e+00],\n",
       "       [ 4.56666667e-01, -5.57333333e-01,  1.24200000e+00,\n",
       "         7.00666667e-01],\n",
       "       [ 6.56666667e-01, -5.73333333e-02,  1.44200000e+00,\n",
       "         8.00666667e-01],\n",
       "       [ 3.56666667e-01,  3.42666667e-01,  1.64200000e+00,\n",
       "         1.10066667e+00],\n",
       "       [ 5.66666667e-02, -5.73333333e-02,  1.34200000e+00,\n",
       "         6.00666667e-01]])"
      ]
     },
     "execution_count": 101,
     "metadata": {},
     "output_type": "execute_result"
    }
   ],
   "source": [
    "# step 1 CEnter the data\n",
    "centered_data = data.mean(axis= 0)\n",
    "centered_data = data - centered_data\n",
    "\n",
    "centered_data"
   ]
  },
  {
   "cell_type": "code",
   "execution_count": 103,
   "metadata": {},
   "outputs": [
    {
     "data": {
      "text/plain": [
       "array([[ 0.68569351, -0.042434  ,  1.27431544,  0.51627069],\n",
       "       [-0.042434  ,  0.18997942, -0.32965638, -0.12163937],\n",
       "       [ 1.27431544, -0.32965638,  3.11627785,  1.2956094 ],\n",
       "       [ 0.51627069, -0.12163937,  1.2956094 ,  0.58100626]])"
      ]
     },
     "execution_count": 103,
     "metadata": {},
     "output_type": "execute_result"
    }
   ],
   "source": [
    "# step 2: calculate covariance matrix\n",
    "cov_matrix = np.cov(centered_data, rowvar=False)\n",
    "cov_matrix\n"
   ]
  },
  {
   "cell_type": "code",
   "execution_count": 106,
   "metadata": {},
   "outputs": [
    {
     "name": "stdout",
     "output_type": "stream",
     "text": [
      "[4.22824171 0.24267075 0.0782095  0.02383509]\n",
      "[[ 0.36138659 -0.65658877 -0.58202985  0.31548719]\n",
      " [-0.08452251 -0.73016143  0.59791083 -0.3197231 ]\n",
      " [ 0.85667061  0.17337266  0.07623608 -0.47983899]\n",
      " [ 0.3582892   0.07548102  0.54583143  0.75365743]]\n"
     ]
    }
   ],
   "source": [
    "# step 3: calculate eigen value and eigen vector \n",
    "eigen_values, eigen_vecors = np.linalg.eig(cov_matrix)\n",
    "\n",
    "\n",
    "print(eigen_values)\n",
    "print(eigen_vecors)"
   ]
  },
  {
   "cell_type": "code",
   "execution_count": 129,
   "metadata": {},
   "outputs": [
    {
     "name": "stdout",
     "output_type": "stream",
     "text": [
      "[[-2.68412563 -0.31939725]\n",
      " [-2.71414169  0.17700123]\n",
      " [-2.88899057  0.14494943]\n",
      " [-2.74534286  0.31829898]\n",
      " [-2.72871654 -0.32675451]\n",
      " [-2.28085963 -0.74133045]\n",
      " [-2.82053775  0.08946138]\n",
      " [-2.62614497 -0.16338496]\n",
      " [-2.88638273  0.57831175]\n",
      " [-2.6727558   0.11377425]\n",
      " [-2.50694709 -0.6450689 ]\n",
      " [-2.61275523 -0.01472994]\n",
      " [-2.78610927  0.235112  ]\n",
      " [-3.22380374  0.51139459]\n",
      " [-2.64475039 -1.17876464]\n",
      " [-2.38603903 -1.33806233]\n",
      " [-2.62352788 -0.81067951]\n",
      " [-2.64829671 -0.31184914]\n",
      " [-2.19982032 -0.87283904]\n",
      " [-2.5879864  -0.51356031]\n",
      " [-2.31025622 -0.39134594]\n",
      " [-2.54370523 -0.43299606]\n",
      " [-3.21593942 -0.13346807]\n",
      " [-2.30273318 -0.09870885]\n",
      " [-2.35575405  0.03728186]\n",
      " [-2.50666891  0.14601688]\n",
      " [-2.46882007 -0.13095149]\n",
      " [-2.56231991 -0.36771886]\n",
      " [-2.63953472 -0.31203998]\n",
      " [-2.63198939  0.19696122]\n",
      " [-2.58739848  0.20431849]\n",
      " [-2.4099325  -0.41092426]\n",
      " [-2.64886233 -0.81336382]\n",
      " [-2.59873675 -1.09314576]\n",
      " [-2.63692688  0.12132235]\n",
      " [-2.86624165 -0.06936447]\n",
      " [-2.62523805 -0.59937002]\n",
      " [-2.80068412 -0.26864374]\n",
      " [-2.98050204  0.48795834]\n",
      " [-2.59000631 -0.22904384]\n",
      " [-2.77010243 -0.26352753]\n",
      " [-2.84936871  0.94096057]\n",
      " [-2.99740655  0.34192606]\n",
      " [-2.40561449 -0.18887143]\n",
      " [-2.20948924 -0.43666314]\n",
      " [-2.71445143  0.2502082 ]\n",
      " [-2.53814826 -0.50377114]\n",
      " [-2.83946217  0.22794557]\n",
      " [-2.54308575 -0.57941002]\n",
      " [-2.70335978 -0.10770608]\n",
      " [ 1.28482569 -0.68516047]\n",
      " [ 0.93248853 -0.31833364]\n",
      " [ 1.46430232 -0.50426282]\n",
      " [ 0.18331772  0.82795901]\n",
      " [ 1.08810326 -0.07459068]\n",
      " [ 0.64166908  0.41824687]\n",
      " [ 1.09506066 -0.28346827]\n",
      " [-0.74912267  1.00489096]\n",
      " [ 1.04413183 -0.2283619 ]\n",
      " [-0.0087454   0.72308191]\n",
      " [-0.50784088  1.26597119]\n",
      " [ 0.51169856  0.10398124]\n",
      " [ 0.26497651  0.55003646]\n",
      " [ 0.98493451  0.12481785]\n",
      " [-0.17392537  0.25485421]\n",
      " [ 0.92786078 -0.46717949]\n",
      " [ 0.66028376  0.35296967]\n",
      " [ 0.23610499  0.33361077]\n",
      " [ 0.94473373  0.54314555]\n",
      " [ 0.04522698  0.58383438]\n",
      " [ 1.11628318  0.08461685]\n",
      " [ 0.35788842  0.06892503]\n",
      " [ 1.29818388  0.32778731]\n",
      " [ 0.92172892  0.18273779]\n",
      " [ 0.71485333 -0.14905594]\n",
      " [ 0.90017437 -0.32850447]\n",
      " [ 1.33202444 -0.24444088]\n",
      " [ 1.55780216 -0.26749545]\n",
      " [ 0.81329065  0.1633503 ]\n",
      " [-0.30558378  0.36826219]\n",
      " [-0.06812649  0.70517213]\n",
      " [-0.18962247  0.68028676]\n",
      " [ 0.13642871  0.31403244]\n",
      " [ 1.38002644  0.42095429]\n",
      " [ 0.58800644  0.48428742]\n",
      " [ 0.80685831 -0.19418231]\n",
      " [ 1.22069088 -0.40761959]\n",
      " [ 0.81509524  0.37203706]\n",
      " [ 0.24595768  0.2685244 ]\n",
      " [ 0.16641322  0.68192672]\n",
      " [ 0.46480029  0.67071154]\n",
      " [ 0.8908152   0.03446444]\n",
      " [ 0.23054802  0.40438585]\n",
      " [-0.70453176  1.01224823]\n",
      " [ 0.35698149  0.50491009]\n",
      " [ 0.33193448  0.21265468]\n",
      " [ 0.37621565  0.29321893]\n",
      " [ 0.64257601 -0.01773819]\n",
      " [-0.90646986  0.75609337]\n",
      " [ 0.29900084  0.34889781]\n",
      " [ 2.53119273  0.00984911]\n",
      " [ 1.41523588  0.57491635]\n",
      " [ 2.61667602 -0.34390315]\n",
      " [ 1.97153105  0.1797279 ]\n",
      " [ 2.35000592  0.04026095]\n",
      " [ 3.39703874 -0.55083667]\n",
      " [ 0.52123224  1.19275873]\n",
      " [ 2.93258707 -0.3555    ]\n",
      " [ 2.32122882  0.2438315 ]\n",
      " [ 2.91675097 -0.78279195]\n",
      " [ 1.66177415 -0.24222841]\n",
      " [ 1.80340195  0.21563762]\n",
      " [ 2.1655918  -0.21627559]\n",
      " [ 1.34616358  0.77681835]\n",
      " [ 1.58592822  0.53964071]\n",
      " [ 1.90445637 -0.11925069]\n",
      " [ 1.94968906 -0.04194326]\n",
      " [ 3.48705536 -1.17573933]\n",
      " [ 3.79564542 -0.25732297]\n",
      " [ 1.30079171  0.76114964]\n",
      " [ 2.42781791 -0.37819601]\n",
      " [ 1.19900111  0.60609153]\n",
      " [ 3.49992004 -0.4606741 ]\n",
      " [ 1.38876613  0.20439933]\n",
      " [ 2.2754305  -0.33499061]\n",
      " [ 2.61409047 -0.56090136]\n",
      " [ 1.25850816  0.17970479]\n",
      " [ 1.29113206  0.11666865]\n",
      " [ 2.12360872  0.20972948]\n",
      " [ 2.38800302 -0.4646398 ]\n",
      " [ 2.84167278 -0.37526917]\n",
      " [ 3.23067366 -1.37416509]\n",
      " [ 2.15943764  0.21727758]\n",
      " [ 1.44416124  0.14341341]\n",
      " [ 1.78129481  0.49990168]\n",
      " [ 3.07649993 -0.68808568]\n",
      " [ 2.14424331 -0.1400642 ]\n",
      " [ 1.90509815 -0.04930053]\n",
      " [ 1.16932634  0.16499026]\n",
      " [ 2.10761114 -0.37228787]\n",
      " [ 2.31415471 -0.18365128]\n",
      " [ 1.9222678  -0.40920347]\n",
      " [ 1.41523588  0.57491635]\n",
      " [ 2.56301338 -0.2778626 ]\n",
      " [ 2.41874618 -0.3047982 ]\n",
      " [ 1.94410979 -0.1875323 ]\n",
      " [ 1.52716661  0.37531698]\n",
      " [ 1.76434572 -0.07885885]\n",
      " [ 1.90094161 -0.11662796]\n",
      " [ 1.39018886  0.28266094]]\n"
     ]
    }
   ],
   "source": [
    "# step 4: calculate the pca\n",
    "EV = eigen_vecors[:, :2]\n",
    "\n",
    "\n",
    "# calculating the dot products\n",
    "DV = centered_data @ EV # np.dot(centered_data, EV)\n",
    "print(DV)\n",
    "\n"
   ]
  },
  {
   "cell_type": "code",
   "execution_count": 130,
   "metadata": {},
   "outputs": [
    {
     "data": {
      "text/plain": [
       "<matplotlib.legend.Legend at 0x2d632f91d10>"
      ]
     },
     "execution_count": 130,
     "metadata": {},
     "output_type": "execute_result"
    },
    {
     "data": {
      "image/png": "[encoded data removed]",
      "text/plain": [
       "<Figure size 1000x1000 with 1 Axes>"
      ]
     },
     "metadata": {},
     "output_type": "display_data"
    }
   ],
   "source": [
    "plt.figure(figsize=(10, 10))\n",
    "plt.quiver(0, 0, [1], [0], color = 'r', label='pc_1', scale=3)\n",
    "plt.quiver(0, 0, [0], [1], color = 'b', label='pc_2', scale=3)\n",
    "\n",
    "\n",
    "plt.scatter(DV[:, 0], DV[:,1])\n",
    "\n",
    "plt.grid()\n",
    "plt.legend()"
   ]
  },
  {
   "cell_type": "code",
   "execution_count": 131,
   "metadata": {},
   "outputs": [],
   "source": [
    "# plot for the centered data\n"
   ]
  },
  {
   "cell_type": "code",
   "execution_count": 137,
   "metadata": {},
   "outputs": [
    {
     "data": {
      "image/png": "[encoded data removed]",
      "text/plain": [
       "<Figure size 640x480 with 1 Axes>"
      ]
     },
     "metadata": {},
     "output_type": "display_data"
    }
   ],
   "source": [
    "for label, color, marker in zip(range(3), ['r', 'b', 'g'], ['o', '^', 's']):\n",
    "    plt.scatter(DV[target == label, 0], DV[target == label,1], color= color, marker= marker, label = target_names[label])\n",
    "    \n",
    "    \n",
    "plt.xlabel(\"Pca 1\")\n",
    "plt.ylabel(\"Pca_2\")\n",
    "\n",
    "\n",
    "plt.legend()\n",
    "plt.grid()\n"
   ]
  }
 ],
 "metadata": {
  "kernelspec": {
   "display_name": ".venv",
   "language": "python",
   "name": "python3"
  },
  "language_info": {
   "codemirror_mode": {
    "name": "ipython",
    "version": 3
   },
   "file_extension": ".py",
   "mimetype": "text/x-python",
   "name": "python",
   "nbconvert_exporter": "python",
   "pygments_lexer": "ipython3",
   "version": "3.13.1"
  }
 },
 "nbformat": 4,
 "nbformat_minor": 2
}
