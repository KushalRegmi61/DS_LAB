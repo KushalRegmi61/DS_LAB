{
  "cells": [
    {
      "cell_type": "markdown",
      "metadata": {
        "id": "dXuIoImF3B4z"
      },
      "source": [
        "# Hypothesis testing"
      ]
    },
    {
      "cell_type": "markdown",
      "metadata": {
        "id": "40JOhcunJ2Ac"
      },
      "source": [
        "## Hypothesis and testing"
      ]
    },
    {
      "cell_type": "markdown",
      "metadata": {
        "id": "MHPP8kVUpH9i"
      },
      "source": [
        " In statistical analysis, a hypothesis, is a claim or assertion either about the value of a single parameter or values of several parameters, or the form of the probability distribution of the population."
      ]
    },
    {
      "cell_type": "markdown",
      "metadata": {
        "id": "8knXy_eoprAq"
      },
      "source": [
        "***For example:***\n",
        "-  **Single parameter:** A manufacturer of a silicon wafer claims that using their new patented process, fewer than 5 defect in a 100 is achievable. (5 in 100 is probably the average failure rate)\n",
        "- **Several parameters:** The manufacturer above is claiming that their method is significantly superior to old one i.e. failure rate now is significantly less than previous\n",
        "- **Form of probability distribution:** Chip failure time is normally distributed."
      ]
    },
    {
      "cell_type": "markdown",
      "metadata": {
        "id": "ouSQtT3bri5R"
      },
      "source": [
        "*How do you verify or refute these claims? Thats what we will be discussing under hypothesis testing.*"
      ]
    },
    {
      "cell_type": "markdown",
      "metadata": {
        "id": "_GVAWC6Ur_-f"
      },
      "source": [
        "In hypothesis testing, there are two contradictory scenarios; for instance one might claim that $\\mu = 0.5$ and the other might be $\\mu \\neq 0.5$. To decide between these, we take some sample values based on which we make a decision."
      ]
    },
    {
      "cell_type": "markdown",
      "metadata": {
        "id": "EoOE92qHJzA9"
      },
      "source": [
        "### Analogy"
      ]
    },
    {
      "cell_type": "markdown",
      "metadata": {
        "id": "SyQ6bsSy4Jx6"
      },
      "source": [
        " There is a familiar analogy to this in a criminal trial. One claim is the assertion that the ***accused individual is innocent***. In most judicial systems, this is the claim that is initially believed to be true. Only ***in the face of strong evidence to the contrary*** should the jury ***reject this claim in favor of the alternative assertion*** that the accused is guilty. In this sense, the ***claim of innocence is the favored or protected hypothesis, and the burden of proof is placed on those who believe in the alternative claim***."
      ]
    },
    {
      "cell_type": "markdown",
      "metadata": {
        "id": "PbEPdDONKDpt"
      },
      "source": [
        "### Writing out hypothesis"
      ]
    },
    {
      "cell_type": "markdown",
      "metadata": {
        "id": "NPKud2c8tm2n"
      },
      "source": [
        "The null hypothesis, denoted by $H_0$ is the claim that is initially assumed to\n",
        "be true (the “prior belief”). The alternative hypothesis, denoted by $H_a$, is the assertion that is contradictory to $H_0$.\n",
        "\n",
        "$H_0$ will be rejected in favor of $H_a$ only if the sample evidence suggests that $H_0$ is false. If the sample does not strongly contradict $H_0$, we will continue to believe in the plausibility of the null hypothesis. The two possible conclusions from a hypothesis-testing analysis are thus: reject $H_0$ or fail to reject $H_0$."
      ]
    },
    {
      "cell_type": "markdown",
      "metadata": {
        "id": "LUDD_yMgu_zA"
      },
      "source": [
        "The word ***null*** means ***of no value, effect, or consequence***, which suggests that $H_0$ should be identified with the hypothesis of no change (from current opinion), no difference, no improvement, and so on."
      ]
    },
    {
      "cell_type": "markdown",
      "metadata": {
        "id": "DuB2u2B_vhQu"
      },
      "source": [
        "Our example above of *Single parameter* can be expressed as:\n",
        "- Null Hypothesis ($H_0$): p = 0.05\n",
        "- Alternate Hypothesis ($H_a$): p < 0.05\n",
        "\n",
        "*Note; we used $H_0$: p = 0.05 instead of p >= 0.05. But it turns out, any reasonable decision procedure for deciding between $H_0$: p = 0.05 & $H_a$: p < 0.05 will also be reasonable for deciding between the claim $H_0$: p >= 0.05 & $H_a$: p < 0.05.*"
      ]
    },
    {
      "cell_type": "markdown",
      "metadata": {
        "id": "b9L9C2wxurDu"
      },
      "source": [
        "A ***test of hypotheses*** is a method for using sample data to decide whether the null hypothesis should be rejected."
      ]
    },
    {
      "cell_type": "markdown",
      "metadata": {
        "id": "G0rw6t90KJ90"
      },
      "source": [
        "### Simulating probability"
      ]
    },
    {
      "cell_type": "code",
      "execution_count": 7,
      "metadata": {
        "id": "tHcZR_8OpHWU"
      },
      "outputs": [],
      "source": [
        "# simulate probability:\n",
        "# objective probability: probability if the proportion of occurance as number of experiment increases to infinity\n",
        "\n",
        "# randomly sample array of values from normal distribution with mean 0 and std 1\n",
        "# find probability for occurance of values say less than -2\n",
        "# find probability for occurance of values say larger than 2\n",
        "\n",
        "import numpy as np\n",
        "\n",
        "def get_std_norm_cdf(x, num_experiments = 1000000):\n",
        "  experiment_values = numpy.random.normal(loc=0, scale = 1,size = num_experiments)\n",
        "  return (experiment_values < x).sum() / num_experiments"
      ]
    },
    {
      "cell_type": "code",
      "execution_count": 3,
      "metadata": {
        "colab": {
          "base_uri": "https://localhost:8080/"
        },
        "id": "P8PtGirmq98j",
        "outputId": "018edbe7-7533-4d54-abc4-7ee57c0e7b29"
      },
      "outputs": [
        {
          "data": {
            "text/plain": [
              "np.float64(0.97731)"
            ]
          },
          "execution_count": 3,
          "metadata": {},
          "output_type": "execute_result"
        }
      ],
      "source": [
        "get_std_norm_cdf(2)"
      ]
    },
    {
      "cell_type": "code",
      "execution_count": 4,
      "metadata": {
        "id": "qkkqJq4bYflk"
      },
      "outputs": [],
      "source": [
        "def get_zscore(x, mean_, std_):\n",
        "  return (x - mean_)/ std_"
      ]
    },
    {
      "cell_type": "code",
      "execution_count": 5,
      "metadata": {
        "colab": {
          "base_uri": "https://localhost:8080/"
        },
        "id": "y6xa_34R7qA_",
        "outputId": "bc2eaffc-7341-456b-9289-7e51f82e2463"
      },
      "outputs": [
        {
          "name": "stdout",
          "output_type": "stream",
          "text": [
            "CDF:  0.5010799999999991\n"
          ]
        }
      ],
      "source": [
        "def get_cdf(x, distribution_func, args : dict, samples = 1000000):\n",
        "  p=0\n",
        "  num_samples = 1000\n",
        "  sample_size = samples // num_samples\n",
        "  for i in range(num_samples):\n",
        "    rand_samples = distribution_func(**args, size = sample_size)\n",
        "    p += (rand_samples < x).sum() / sample_size\n",
        "  return p/num_samples\n",
        "\n",
        "def get_cdf_normal(x, mean_=0, std_=1):\n",
        "  return get_cdf(x, numpy.random.normal, {'loc': mean_, 'scale': std_})\n",
        "\n",
        "test_x = 0\n",
        "\n",
        "print(\"CDF: \", get_cdf_normal(test_x, 0, 1))"
      ]
    },
    {
      "cell_type": "code",
      "execution_count": 6,
      "metadata": {
        "id": "bMGREs29FRsW"
      },
      "outputs": [],
      "source": [
        "# what does cdf say?\n",
        "# what values are at least as contradictory as -2 to H0 = 0?\n",
        "# what is their chance of occurance?\n",
        "    \n",
        "# Can we get a value (say -100.1) while sampling from the above standard normal distribution?"
      ]
    },
    {
      "cell_type": "code",
      "execution_count": 18,
      "metadata": {},
      "outputs": [],
      "source": [
        "# data = np.random.normal(loc=10, scale=10 , size=400)\n",
        "\n",
        "\n",
        "population = np.random.exponential(scale=10, size=40)\n",
        "\n"
      ]
    },
    {
      "cell_type": "code",
      "execution_count": 19,
      "metadata": {},
      "outputs": [
        {
          "data": {
            "text/plain": [
              "<Axes: ylabel='Count'>"
            ]
          },
          "execution_count": 19,
          "metadata": {},
          "output_type": "execute_result"
        },
        {
          "data": {
            "image/png": "[encoded data removed]",
            "text/plain": [
              "<Figure size 640x480 with 1 Axes>"
            ]
          },
          "metadata": {},
          "output_type": "display_data"
        }
      ],
      "source": [
        "import seaborn as sns\n",
        "\n",
        "\n",
        "sns.histplot(population, kde=True)"
      ]
    },
    {
      "cell_type": "code",
      "execution_count": 29,
      "metadata": {},
      "outputs": [
        {
          "ename": "TypeError",
          "evalue": "mean() missing 1 required positional argument: 'a'",
          "output_type": "error",
          "traceback": [
            "\u001b[1;31m---------------------------------------------------------------------------\u001b[0m",
            "\u001b[1;31mTypeError\u001b[0m                                 Traceback (most recent call last)",
            "Cell \u001b[1;32mIn[29], line 5\u001b[0m\n\u001b[0;32m      1\u001b[0m \u001b[38;5;28;01mimport\u001b[39;00m\u001b[38;5;250m \u001b[39m\u001b[38;5;21;01mrandom\u001b[39;00m\n\u001b[0;32m      3\u001b[0m population \u001b[38;5;241m=\u001b[39m np\u001b[38;5;241m.\u001b[39mrandom\u001b[38;5;241m.\u001b[39mexponential(\u001b[38;5;241m10\u001b[39m, \u001b[38;5;241m10000\u001b[39m)\n\u001b[1;32m----> 5\u001b[0m sample_means \u001b[38;5;241m=\u001b[39m [ \u001b[43mnp\u001b[49m\u001b[38;5;241;43m.\u001b[39;49m\u001b[43mmean\u001b[49m\u001b[43m(\u001b[49m\u001b[43m)\u001b[49m \u001b[38;5;28;01mfor\u001b[39;00m i \u001b[38;5;129;01min\u001b[39;00m \u001b[38;5;28mrange\u001b[39m(\u001b[38;5;241m500\u001b[39m)]\n",
            "\u001b[1;31mTypeError\u001b[0m: mean() missing 1 required positional argument: 'a'"
          ]
        }
      ],
      "source": [
        "import random\n",
        "\n",
        "population = np.random.exponential(10, 10000)\n",
        "\n",
        "sample_means = [ np.mean(random.choice(population, size=40, replace=False)) for i in range(500)]"
      ]
    },
    {
      "cell_type": "code",
      "execution_count": 31,
      "metadata": {},
      "outputs": [
        {
          "name": "stdout",
          "output_type": "stream",
          "text": [
            "[np.float64(9.401139210585296), np.float64(10.122298251113534), np.float64(9.834173577241588), np.float64(12.093867748847092), np.float64(8.884020651717567), np.float64(8.22668701028285), np.float64(8.929323931674693), np.float64(8.945643565229897), np.float64(10.710138217465783), np.float64(10.10142126760472)]\n"
          ]
        }
      ],
      "source": [
        "import numpy as np\n",
        "\n",
        "# Generate the population from an exponential distribution\n",
        "population = np.random.exponential(scale=10, size=10000)\n",
        "\n",
        "# Calculate sample means using numpy's random.choice\n",
        "sample_means = [np.mean(np.random.choice(population, size=40, replace=False)) for i in range(500)]\n",
        "\n",
        "print(sample_means[:10])  # Print the first 10 sample means\n"
      ]
    },
    {
      "cell_type": "code",
      "execution_count": 32,
      "metadata": {},
      "outputs": [
        {
          "data": {
            "image/png": "[encoded data removed]",
            "text/plain": [
              "<Figure size 640x480 with 1 Axes>"
            ]
          },
          "metadata": {},
          "output_type": "display_data"
        }
      ],
      "source": [
        "import numpy as np\n",
        "import matplotlib.pyplot as plt\n",
        "import seaborn as sns\n",
        "\n",
        "\n",
        "# Plot the distribution of sample means\n",
        "sns.histplot(sample_means, bins=30, kde=True, color='black')\n",
        "\n",
        "\n",
        "\n",
        "\n",
        "plt.title('Verification of CLT for Exponential Data')\n",
        "plt.xlabel('Sample Mean')\n",
        "plt.ylabel('Frequency')\n",
        "plt.show()\n"
      ]
    },
    {
      "cell_type": "code",
      "execution_count": 52,
      "metadata": {},
      "outputs": [
        {
          "data": {
            "text/plain": [
              "np.float64(-2.2926513036220753)"
            ]
          },
          "execution_count": 52,
          "metadata": {},
          "output_type": "execute_result"
        }
      ],
      "source": [
        "sample_data = [6.91, 6.62, 8.45, 9.10, 11.05, 3.47, 12.47 , 2.02, 9.88, 5.53]\n",
        "\n",
        "\n",
        "# std_population = 1, mean= 9\n",
        "sample_data = np.array(sample_data)\n",
        "\n",
        "\n",
        "sample_mean = np.mean(sample_data)\n",
        "\n",
        "\n",
        "z_score = (sample_mean -9) * np.sqrt(len(sample_data)) / 2\n",
        "\n",
        "\n",
        "\n",
        "\n",
        "z_score"
      ]
    },
    {
      "cell_type": "code",
      "execution_count": 67,
      "metadata": {},
      "outputs": [
        {
          "ename": "ModuleNotFoundError",
          "evalue": "No module named 'stats'",
          "output_type": "error",
          "traceback": [
            "\u001b[1;31m---------------------------------------------------------------------------\u001b[0m",
            "\u001b[1;31mModuleNotFoundError\u001b[0m                       Traceback (most recent call last)",
            "Cell \u001b[1;32mIn[67], line 5\u001b[0m\n\u001b[0;32m      3\u001b[0m \u001b[38;5;28;01mfrom\u001b[39;00m\u001b[38;5;250m \u001b[39m\u001b[38;5;21;01mstatsmodels\u001b[39;00m\u001b[38;5;21;01m.\u001b[39;00m\u001b[38;5;21;01mstats\u001b[39;00m\u001b[38;5;21;01m.\u001b[39;00m\u001b[38;5;21;01mweightstats\u001b[39;00m\u001b[38;5;250m \u001b[39m\u001b[38;5;28;01mimport\u001b[39;00m ztest\n\u001b[0;32m      4\u001b[0m \u001b[38;5;28;01mfrom\u001b[39;00m\u001b[38;5;250m \u001b[39m\u001b[38;5;21;01mscipy\u001b[39;00m\u001b[38;5;21;01m.\u001b[39;00m\u001b[38;5;21;01mstats\u001b[39;00m\u001b[38;5;250m \u001b[39m\u001b[38;5;28;01mimport\u001b[39;00m norm\n\u001b[1;32m----> 5\u001b[0m \u001b[38;5;28;01mimport\u001b[39;00m\u001b[38;5;250m \u001b[39m\u001b[38;5;21;01mstats\u001b[39;00m\n\u001b[0;32m      7\u001b[0m \u001b[38;5;66;03m# Sample data\u001b[39;00m\n\u001b[0;32m      8\u001b[0m sample_data \u001b[38;5;241m=\u001b[39m [\u001b[38;5;241m6.91\u001b[39m, \u001b[38;5;241m6.62\u001b[39m, \u001b[38;5;241m8.45\u001b[39m, \u001b[38;5;241m9.10\u001b[39m, \u001b[38;5;241m11.05\u001b[39m, \u001b[38;5;241m3.47\u001b[39m, \u001b[38;5;241m12.47\u001b[39m , \u001b[38;5;241m2.02\u001b[39m, \u001b[38;5;241m9.88\u001b[39m, \u001b[38;5;241m5.53\u001b[39m]\n",
            "\u001b[1;31mModuleNotFoundError\u001b[0m: No module named 'stats'"
          ]
        }
      ],
      "source": [
        "import math \n",
        "import numpy as np\n",
        "from statsmodels.stats.weightstats import ztest\n",
        "from scipy.stats import norm\n",
        "import stats\n",
        "\n",
        "# Sample data\n",
        "sample_data = [6.91, 6.62, 8.45, 9.10, 11.05, 3.47, 12.47 , 2.02, 9.88, 5.53]\n",
        "# Population mean under the null hypothesis\n",
        "population_mean = 9\n",
        "# Population standard deviation\n",
        "population_std = 2\n",
        "\n",
        "# Method 1 : Using Z-score\n",
        "\n",
        "sample_mean = np.mean(sample_data)\n",
        "sample_size = np.count_nonzero(sample_data)\n",
        "\n",
        "\n",
        "alpha = 0.05\n",
        "z_score = (sample_mean-population_mean)/(population_std/math.sqrt(sample_size))\n",
        "critical_value = 1.96 # from z table\n",
        "\n",
        "\n",
        "# Calculate p-value for Two-Tailed Test\n",
        "p_value_two_tailed = 2 * (1 - stats.norm.cdf(abs(z_score)))\n",
        "\n",
        "if(z_score>(-2) and z_score<2):\n",
        "    print('Null hypothesis is accepted!')\n",
        "else:\n",
        "    print('Null hypothesis is rejected. \\nAlternate hypothesis is accepted!')\n",
        "    \n",
        "\n",
        "print(z_score)\n",
        "  "
      ]
    },
    {
      "cell_type": "code",
      "execution_count": 65,
      "metadata": {},
      "outputs": [
        {
          "name": "stdout",
          "output_type": "stream",
          "text": [
            "Z-test Score: -1.3918307636680816 \n",
            "P-value: 0.9180131741013107\n",
            "Null hypothesis is accepted!\n"
          ]
        }
      ],
      "source": [
        "  \n",
        "    \n",
        "# Method 2: Using built in function of ztest\n",
        "\n",
        "ztest_score, pval = ztest(sample_data,value=population_mean,alternative='larger')\n",
        "print('Z-test Score:',ztest_score,'\\nP-value:',pval)\n",
        "if(pval>alpha):\n",
        "     print('Null hypothesis is accepted!')\n",
        "else:\n",
        "    print('Null hypothesis is rejected. \\nAlternate hypothesis is accepted!')"
      ]
    }
  ],
  "metadata": {
    "colab": {
      "collapsed_sections": [
        "DSJ1CBc8hHOD",
        "VL0M6b4p-GEF",
        "40JOhcunJ2Ac"
      ],
      "provenance": []
    },
    "kernelspec": {
      "display_name": ".venv",
      "language": "python",
      "name": "python3"
    },
    "language_info": {
      "codemirror_mode": {
        "name": "ipython",
        "version": 3
      },
      "file_extension": ".py",
      "mimetype": "text/x-python",
      "name": "python",
      "nbconvert_exporter": "python",
      "pygments_lexer": "ipython3",
      "version": "3.13.1"
    }
  },
  "nbformat": 4,
  "nbformat_minor": 0
}
