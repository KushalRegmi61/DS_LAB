{
 "cells": [
  {
   "cell_type": "code",
   "execution_count": 2,
   "metadata": {},
   "outputs": [],
   "source": [
    "import pandas as pd\n",
    "from sklearn.decomposition import PCA\n",
    "from sklearn.preprocessing import StandardScaler"
   ]
  },
  {
   "cell_type": "code",
   "execution_count": 3,
   "metadata": {},
   "outputs": [
    {
     "ename": "NameError",
     "evalue": "name 'plt' is not defined",
     "output_type": "error",
     "traceback": [
      "\u001b[1;31m---------------------------------------------------------------------------\u001b[0m",
      "\u001b[1;31mNameError\u001b[0m                                 Traceback (most recent call last)",
      "Cell \u001b[1;32mIn[3], line 34\u001b[0m\n\u001b[0;32m     31\u001b[0m     plt\u001b[38;5;241m.\u001b[39mshow()\n\u001b[0;32m     33\u001b[0m \u001b[38;5;66;03m# Step 6: Plotting the First Principal Component\u001b[39;00m\n\u001b[1;32m---> 34\u001b[0m \u001b[43mplt\u001b[49m\u001b[38;5;241m.\u001b[39mimshow(pca\u001b[38;5;241m.\u001b[39mcomponents_[\u001b[38;5;241m0\u001b[39m]\u001b[38;5;241m.\u001b[39mreshape(\u001b[38;5;241m28\u001b[39m, \u001b[38;5;241m28\u001b[39m), cmap\u001b[38;5;241m=\u001b[39m\u001b[38;5;124m'\u001b[39m\u001b[38;5;124mgray\u001b[39m\u001b[38;5;124m'\u001b[39m)\n\u001b[0;32m     35\u001b[0m plt\u001b[38;5;241m.\u001b[39mtitle(\u001b[38;5;124m'\u001b[39m\u001b[38;5;124mFirst Principal Component\u001b[39m\u001b[38;5;124m'\u001b[39m)\n\u001b[0;32m     36\u001b[0m plt\u001b[38;5;241m.\u001b[39maxis(\u001b[38;5;124m'\u001b[39m\u001b[38;5;124moff\u001b[39m\u001b[38;5;124m'\u001b[39m)\n",
      "\u001b[1;31mNameError\u001b[0m: name 'plt' is not defined"
     ]
    }
   ],
   "source": [
    "# TODO: Direct solution using the inbuilt library\n",
    "\n",
    "# Step 1: Load Data\n",
    "data = pd.read_csv('./mnist_train_small.csv')  # Assuming your MNIST data is in 'mnist.csv'\n",
    "X = data.iloc[:, 1:].values  # Exclude the label column\n",
    "y = data.iloc[:, 0].values   # Labels (not used for PCA)\n",
    "\n",
    "# Step 2: Centering the Data\n",
    "scaler = StandardScaler()\n",
    "X_centered = scaler.fit_transform(X)\n",
    "\n",
    "# Step 3: Apply PCA\n",
    "pca = PCA(n_components=0.935)  # Set variance threshold (you can modify this)\n",
    "X_pca = pca.fit_transform(X_centered)\n",
    "\n",
    "# Step 4: Reconstruct Images\n",
    "reconstructed_images = pca.inverse_transform(X_pca)\n",
    "\n",
    "# Step 5: Plotting Original vs Reconstructed Images\n",
    "def plot_images(original, reconstructed, indices):\n",
    "    plt.figure(figsize=(10, 4))\n",
    "    for i, index in enumerate(indices):\n",
    "        plt.subplot(2, len(indices), i + 1)\n",
    "        plt.imshow(original[index].reshape(28, 28), cmap='gray')\n",
    "        plt.title(f'Original {index}')\n",
    "        plt.axis('off')\n",
    "        \n",
    "        plt.subplot(2, len(indices), len(indices) + i + 1)\n",
    "        plt.imshow(reconstructed[index].reshape(28, 28), cmap='gray')\n",
    "        plt.title(f'Reconstructed {index}')\n",
    "        plt.axis('off')\n",
    "    \n",
    "    plt.show()\n",
    "\n",
    "# Step 6: Plotting the First Principal Component\n",
    "plt.imshow(pca.components_[0].reshape(28, 28), cmap='gray')\n",
    "plt.title('First Principal Component')\n",
    "plt.axis('off')\n",
    "plt.show()\n",
    "\n",
    "# Example call to plot original and reconstructed images\n",
    "indices_to_plot =  [42, 2 * 42, 4 * 42, 8 * 42] \n",
    "plot_images(X, reconstructed_images, indices_to_plot)\n"
   ]
  }
 ],
 "metadata": {
  "kernelspec": {
   "display_name": ".venv",
   "language": "python",
   "name": "python3"
  },
  "language_info": {
   "codemirror_mode": {
    "name": "ipython",
    "version": 3
   },
   "file_extension": ".py",
   "mimetype": "text/x-python",
   "name": "python",
   "nbconvert_exporter": "python",
   "pygments_lexer": "ipython3",
   "version": "3.13.1"
  }
 },
 "nbformat": 4,
 "nbformat_minor": 2
}
