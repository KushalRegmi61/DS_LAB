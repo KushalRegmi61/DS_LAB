{
  "nbformat": 4,
  "nbformat_minor": 0,
  "metadata": {
    "colab": {
      "provenance": []
    },
    "kernelspec": {
      "name": "python3",
      "display_name": "Python 3"
    },
    "language_info": {
      "name": "python"
    }
  },
  "cells": [
    {
      "cell_type": "code",
      "source": [
        "np.__version__"
      ],
      "metadata": {
        "colab": {
          "base_uri": "https://localhost:8080/",
          "height": 35
        },
        "id": "bk1j-DXdJEf-",
        "outputId": "259c3292-749d-4a3b-ed95-1174ff52315b"
      },
      "execution_count": null,
      "outputs": [
        {
          "output_type": "execute_result",
          "data": {
            "text/plain": [
              "'1.26.4'"
            ],
            "application/vnd.google.colaboratory.intrinsic+json": {
              "type": "string"
            }
          },
          "metadata": {},
          "execution_count": 140
        }
      ]
    },
    {
      "cell_type": "code",
      "source": [
        "a = np.array([1, 2, 3, 4, 5])\n",
        "print(a)"
      ],
      "metadata": {
        "colab": {
          "base_uri": "https://localhost:8080/"
        },
        "id": "Gnhk7eWtJOhe",
        "outputId": "c5d024b5-2cec-4535-d72f-f4a2a3b53fc5"
      },
      "execution_count": null,
      "outputs": [
        {
          "output_type": "stream",
          "name": "stdout",
          "text": [
            "[1 2 3 4 5]\n"
          ]
        }
      ]
    },
    {
      "cell_type": "code",
      "source": [
        "type(a)"
      ],
      "metadata": {
        "colab": {
          "base_uri": "https://localhost:8080/"
        },
        "id": "ZLRQpbaUTvOC",
        "outputId": "8ef5d133-eb6f-48d2-c2e6-550a15aa8fdb"
      },
      "execution_count": null,
      "outputs": [
        {
          "output_type": "execute_result",
          "data": {
            "text/plain": [
              "numpy.ndarray"
            ]
          },
          "metadata": {},
          "execution_count": 4
        }
      ]
    },
    {
      "cell_type": "code",
      "source": [
        "a = np.array(2)\n",
        "b = np.array([[2, 3], [3, 4]])\n",
        "print(a.ndim)\n",
        "print(b.shape)\n",
        "print(b.size)\n",
        "#c = np.array"
      ],
      "metadata": {
        "colab": {
          "base_uri": "https://localhost:8080/"
        },
        "id": "LrA6wRStUVd0",
        "outputId": "874eee88-75b7-4611-ab88-22074eaf1d43"
      },
      "execution_count": null,
      "outputs": [
        {
          "output_type": "stream",
          "name": "stdout",
          "text": [
            "0\n",
            "(2, 2)\n",
            "4\n"
          ]
        }
      ]
    },
    {
      "cell_type": "code",
      "source": [
        "c = np.array([1, 2, 3], ndmin = 5)\n",
        "print(c)\n",
        "print(c.ndim)"
      ],
      "metadata": {
        "colab": {
          "base_uri": "https://localhost:8080/"
        },
        "id": "klE9daQYU9MR",
        "outputId": "286f7bb5-2d83-4c30-f60c-ed24bf5cf524"
      },
      "execution_count": null,
      "outputs": [
        {
          "output_type": "stream",
          "name": "stdout",
          "text": [
            "[[[[[1 2 3]]]]]\n",
            "5\n"
          ]
        }
      ]
    },
    {
      "cell_type": "code",
      "source": [
        "a = np.arange(10)\n",
        "a.size"
      ],
      "metadata": {
        "colab": {
          "base_uri": "https://localhost:8080/"
        },
        "id": "zzhbYx3JVqfa",
        "outputId": "84f0ea18-2e90-46d2-995b-de0d9cffb2b0"
      },
      "execution_count": null,
      "outputs": [
        {
          "output_type": "execute_result",
          "data": {
            "text/plain": [
              "10"
            ]
          },
          "metadata": {},
          "execution_count": 10
        }
      ]
    },
    {
      "cell_type": "code",
      "source": [
        "b = a.reshape(2, 5)"
      ],
      "metadata": {
        "id": "M1giY5YlWAb9"
      },
      "execution_count": null,
      "outputs": []
    },
    {
      "cell_type": "code",
      "source": [
        "print(b)"
      ],
      "metadata": {
        "id": "k-ZlvAGqWf2D",
        "colab": {
          "base_uri": "https://localhost:8080/"
        },
        "outputId": "d3819ef4-036b-4ede-8479-39a8527c2b97"
      },
      "execution_count": null,
      "outputs": [
        {
          "output_type": "stream",
          "name": "stdout",
          "text": [
            "[[0 1 2 3 4]\n",
            " [5 6 7 8 9]]\n"
          ]
        }
      ]
    },
    {
      "cell_type": "code",
      "source": [
        "a[0]"
      ],
      "metadata": {
        "colab": {
          "base_uri": "https://localhost:8080/"
        },
        "id": "lvSUV9XPWrH6",
        "outputId": "cf57a70f-ed59-448c-927d-828a2ac16db2"
      },
      "execution_count": null,
      "outputs": [
        {
          "output_type": "execute_result",
          "data": {
            "text/plain": [
              "0"
            ]
          },
          "metadata": {},
          "execution_count": 13
        }
      ]
    },
    {
      "cell_type": "code",
      "source": [
        "b[0]"
      ],
      "metadata": {
        "colab": {
          "base_uri": "https://localhost:8080/"
        },
        "id": "X3PeZw-CW1Sw",
        "outputId": "86349bd1-ccd2-4065-a0a7-580a62acfc5b"
      },
      "execution_count": null,
      "outputs": [
        {
          "output_type": "execute_result",
          "data": {
            "text/plain": [
              "array([0, 1, 2, 3, 4])"
            ]
          },
          "metadata": {},
          "execution_count": 14
        }
      ]
    },
    {
      "cell_type": "code",
      "source": [
        "b[0][1]"
      ],
      "metadata": {
        "id": "fMc3hXS2XF5Q",
        "outputId": "fbabeada-0592-452d-d5e0-2331c8c11199",
        "colab": {
          "base_uri": "https://localhost:8080/"
        }
      },
      "execution_count": null,
      "outputs": [
        {
          "output_type": "execute_result",
          "data": {
            "text/plain": [
              "1"
            ]
          },
          "metadata": {},
          "execution_count": 15
        }
      ]
    },
    {
      "cell_type": "code",
      "source": [
        "b[0][1]"
      ],
      "metadata": {
        "id": "M_7uzapzXHAC",
        "outputId": "2d6bbc53-0fbc-45f5-f6c6-fd6b9b61d31a",
        "colab": {
          "base_uri": "https://localhost:8080/"
        }
      },
      "execution_count": null,
      "outputs": [
        {
          "output_type": "execute_result",
          "data": {
            "text/plain": [
              "1"
            ]
          },
          "metadata": {},
          "execution_count": 39
        }
      ]
    },
    {
      "cell_type": "markdown",
      "source": [
        "numpy.linspace() function:\n"
      ],
      "metadata": {
        "id": "rdm_-AGK48YT"
      }
    },
    {
      "cell_type": "code",
      "source": [
        "np.linspace(1, 10, 5)"
      ],
      "metadata": {
        "id": "aL3bSnkJXKJG",
        "colab": {
          "base_uri": "https://localhost:8080/"
        },
        "outputId": "5936b31d-2d07-45de-e8a2-4a5cc65cad17"
      },
      "execution_count": null,
      "outputs": [
        {
          "output_type": "execute_result",
          "data": {
            "text/plain": [
              "array([ 1.  ,  3.25,  5.5 ,  7.75, 10.  ])"
            ]
          },
          "metadata": {},
          "execution_count": 16
        }
      ]
    },
    {
      "cell_type": "code",
      "source": [
        "arr = np.linspace(0, 10, 5, retstep=True)\n",
        "type(arr)"
      ],
      "metadata": {
        "colab": {
          "base_uri": "https://localhost:8080/"
        },
        "id": "zuSZXzix5BIf",
        "outputId": "4b17b5bb-dd04-4d35-fb8f-9508208ebb2e"
      },
      "execution_count": null,
      "outputs": [
        {
          "output_type": "execute_result",
          "data": {
            "text/plain": [
              "tuple"
            ]
          },
          "metadata": {},
          "execution_count": 17
        }
      ]
    },
    {
      "cell_type": "code",
      "source": [
        "arr"
      ],
      "metadata": {
        "colab": {
          "base_uri": "https://localhost:8080/"
        },
        "id": "4LGfKFwo5DEN",
        "outputId": "ff3e278c-7faa-49a7-b978-e7f697ad69ac"
      },
      "execution_count": null,
      "outputs": [
        {
          "output_type": "execute_result",
          "data": {
            "text/plain": [
              "(array([ 0. ,  2.5,  5. ,  7.5, 10. ]), 2.5)"
            ]
          },
          "metadata": {},
          "execution_count": 22
        }
      ]
    },
    {
      "cell_type": "code",
      "source": [
        "arr[1]"
      ],
      "metadata": {
        "colab": {
          "base_uri": "https://localhost:8080/"
        },
        "id": "PPYobXAM5FfY",
        "outputId": "54f65cc2-ed46-471b-8bf9-de90183eef14"
      },
      "execution_count": null,
      "outputs": [
        {
          "output_type": "execute_result",
          "data": {
            "text/plain": [
              "2.5"
            ]
          },
          "metadata": {},
          "execution_count": 19
        }
      ]
    },
    {
      "cell_type": "markdown",
      "source": [
        "numpy.zeros() and numpy.ones() functions:"
      ],
      "metadata": {
        "id": "7YVi6nOb5iEr"
      }
    },
    {
      "cell_type": "code",
      "source": [
        "np.zeros(10)"
      ],
      "metadata": {
        "colab": {
          "base_uri": "https://localhost:8080/"
        },
        "id": "iAt97b1v5G_v",
        "outputId": "136423a5-0d61-49ba-d893-6e93007f848f"
      },
      "execution_count": null,
      "outputs": [
        {
          "output_type": "execute_result",
          "data": {
            "text/plain": [
              "array([0., 0., 0., 0., 0., 0., 0., 0., 0., 0.])"
            ]
          },
          "metadata": {},
          "execution_count": 23
        }
      ]
    },
    {
      "cell_type": "code",
      "source": [
        "np.zeros((2, 4))"
      ],
      "metadata": {
        "colab": {
          "base_uri": "https://localhost:8080/"
        },
        "id": "ODL1Umtn5l1j",
        "outputId": "5121471f-338c-42f4-86f5-d4cca2695d28"
      },
      "execution_count": null,
      "outputs": [
        {
          "output_type": "execute_result",
          "data": {
            "text/plain": [
              "array([[0., 0., 0., 0.],\n",
              "       [0., 0., 0., 0.]])"
            ]
          },
          "metadata": {},
          "execution_count": 25
        }
      ]
    },
    {
      "cell_type": "code",
      "source": [
        "np.zeros(5, dtype ='int64')"
      ],
      "metadata": {
        "colab": {
          "base_uri": "https://localhost:8080/"
        },
        "id": "e0tlJFX-5n33",
        "outputId": "e6943e92-d0c5-4646-bc8a-235924d77e30"
      },
      "execution_count": null,
      "outputs": [
        {
          "output_type": "execute_result",
          "data": {
            "text/plain": [
              "array([0, 0, 0, 0, 0])"
            ]
          },
          "metadata": {},
          "execution_count": 26
        }
      ]
    },
    {
      "cell_type": "code",
      "source": [
        "np.zeros(5, dtype ='int64').dtype"
      ],
      "metadata": {
        "colab": {
          "base_uri": "https://localhost:8080/"
        },
        "id": "4qBPaGw15uTM",
        "outputId": "449c241e-dbc4-4295-be23-17163abaa8be"
      },
      "execution_count": null,
      "outputs": [
        {
          "output_type": "execute_result",
          "data": {
            "text/plain": [
              "dtype('int64')"
            ]
          },
          "metadata": {},
          "execution_count": 27
        }
      ]
    },
    {
      "cell_type": "code",
      "source": [
        "arr = np.ones((2,3), dtype ='int_')"
      ],
      "metadata": {
        "id": "jUwFj4pM5vyu"
      },
      "execution_count": null,
      "outputs": []
    },
    {
      "cell_type": "code",
      "source": [
        "arr"
      ],
      "metadata": {
        "colab": {
          "base_uri": "https://localhost:8080/"
        },
        "id": "Fe77qN9F5zyb",
        "outputId": "b1c61d65-98ca-4780-bdb7-9c1f011c1c95"
      },
      "execution_count": null,
      "outputs": [
        {
          "output_type": "execute_result",
          "data": {
            "text/plain": [
              "array([[1, 1, 1],\n",
              "       [1, 1, 1]])"
            ]
          },
          "metadata": {},
          "execution_count": 29
        }
      ]
    },
    {
      "cell_type": "code",
      "source": [
        "arr.dtype"
      ],
      "metadata": {
        "colab": {
          "base_uri": "https://localhost:8080/"
        },
        "id": "uppmZ26i51bd",
        "outputId": "747cc9a2-aa23-49f7-cb85-6decb2e48849"
      },
      "execution_count": null,
      "outputs": [
        {
          "output_type": "execute_result",
          "data": {
            "text/plain": [
              "dtype('int64')"
            ]
          },
          "metadata": {},
          "execution_count": 32
        }
      ]
    },
    {
      "cell_type": "code",
      "source": [
        "arr.astype('float')"
      ],
      "metadata": {
        "colab": {
          "base_uri": "https://localhost:8080/"
        },
        "id": "uSgDGLbf52ym",
        "outputId": "5564f68c-5510-4cda-960e-ecb308179e2a"
      },
      "execution_count": null,
      "outputs": [
        {
          "output_type": "execute_result",
          "data": {
            "text/plain": [
              "array([[1., 1., 1.],\n",
              "       [1., 1., 1.]])"
            ]
          },
          "metadata": {},
          "execution_count": 34
        }
      ]
    },
    {
      "cell_type": "code",
      "source": [
        "arr1 = np.array([1, 2, True, False])"
      ],
      "metadata": {
        "id": "kUdW89me56yI"
      },
      "execution_count": null,
      "outputs": []
    },
    {
      "cell_type": "code",
      "source": [
        "arr1"
      ],
      "metadata": {
        "colab": {
          "base_uri": "https://localhost:8080/"
        },
        "id": "l7ezIyB-6KUy",
        "outputId": "94fe7148-e387-4948-d5ad-32d6b4b91afa"
      },
      "execution_count": null,
      "outputs": [
        {
          "output_type": "execute_result",
          "data": {
            "text/plain": [
              "array([1, 2, 1, 0])"
            ]
          },
          "metadata": {},
          "execution_count": 37
        }
      ]
    },
    {
      "cell_type": "code",
      "source": [
        "arr2 = np.array(['a', 'b', 2, 3])"
      ],
      "metadata": {
        "id": "M6w9H_Yb6R5_"
      },
      "execution_count": null,
      "outputs": []
    },
    {
      "cell_type": "code",
      "source": [
        "arr2"
      ],
      "metadata": {
        "colab": {
          "base_uri": "https://localhost:8080/"
        },
        "id": "ZD9QQPDL6WSD",
        "outputId": "e9676de9-7e32-4879-f93a-0dbc7f7bb855"
      },
      "execution_count": null,
      "outputs": [
        {
          "output_type": "execute_result",
          "data": {
            "text/plain": [
              "array(['a', 'b', '2', '3'], dtype='<U21')"
            ]
          },
          "metadata": {},
          "execution_count": 45
        }
      ]
    },
    {
      "cell_type": "markdown",
      "source": [
        "Indexing and slicing NumPy arrays:"
      ],
      "metadata": {
        "id": "ZdV5dzOL64BZ"
      }
    },
    {
      "cell_type": "code",
      "source": [
        "a = np.array([1, 2, 3, 4])"
      ],
      "metadata": {
        "id": "dd3q1cRI62RK"
      },
      "execution_count": null,
      "outputs": []
    },
    {
      "cell_type": "code",
      "source": [
        "a[1]"
      ],
      "metadata": {
        "colab": {
          "base_uri": "https://localhost:8080/"
        },
        "id": "PBojDJpo63NO",
        "outputId": "3bdd138b-c909-4c3d-b388-b1094272ceea"
      },
      "execution_count": null,
      "outputs": [
        {
          "output_type": "execute_result",
          "data": {
            "text/plain": [
              "2"
            ]
          },
          "metadata": {},
          "execution_count": 48
        }
      ]
    },
    {
      "cell_type": "code",
      "source": [
        "a[-1]"
      ],
      "metadata": {
        "colab": {
          "base_uri": "https://localhost:8080/"
        },
        "id": "4HxpUre_6Wuq",
        "outputId": "fc6896e8-ddcf-4f6b-9f85-e29c507ea251"
      },
      "execution_count": null,
      "outputs": [
        {
          "output_type": "execute_result",
          "data": {
            "text/plain": [
              "4"
            ]
          },
          "metadata": {},
          "execution_count": 49
        }
      ]
    },
    {
      "cell_type": "code",
      "source": [
        "b = np.array([[1, 2, 3], [4, 5, 6]])"
      ],
      "metadata": {
        "id": "xNOey1jF691m"
      },
      "execution_count": null,
      "outputs": []
    },
    {
      "cell_type": "code",
      "source": [
        "b[1][1]"
      ],
      "metadata": {
        "colab": {
          "base_uri": "https://localhost:8080/"
        },
        "id": "3jXlsF6k7CnJ",
        "outputId": "fdbf7a12-b512-4a4e-b24f-e3e5fb536bb4"
      },
      "execution_count": null,
      "outputs": [
        {
          "output_type": "execute_result",
          "data": {
            "text/plain": [
              "5"
            ]
          },
          "metadata": {},
          "execution_count": 51
        }
      ]
    },
    {
      "cell_type": "code",
      "source": [
        "b[1:][1:]"
      ],
      "metadata": {
        "colab": {
          "base_uri": "https://localhost:8080/"
        },
        "id": "OTtd400V7D2K",
        "outputId": "6b34d564-0777-457b-948e-4d613b8bb2bb"
      },
      "execution_count": null,
      "outputs": [
        {
          "output_type": "execute_result",
          "data": {
            "text/plain": [
              "array([], shape=(0, 3), dtype=int64)"
            ]
          },
          "metadata": {},
          "execution_count": 53
        }
      ]
    },
    {
      "cell_type": "markdown",
      "source": [
        "Change the shape with reshape() method:\n"
      ],
      "metadata": {
        "id": "gLXcxPx87Qrw"
      }
    },
    {
      "cell_type": "code",
      "source": [
        "a = np.arange(10)"
      ],
      "metadata": {
        "id": "wTagauXQ7G0Z"
      },
      "execution_count": null,
      "outputs": []
    },
    {
      "cell_type": "code",
      "source": [
        "a"
      ],
      "metadata": {
        "colab": {
          "base_uri": "https://localhost:8080/"
        },
        "id": "ET6Kj7k87Skz",
        "outputId": "73abcb25-5a5c-471a-fa2c-0b5e7da8a492"
      },
      "execution_count": null,
      "outputs": [
        {
          "output_type": "execute_result",
          "data": {
            "text/plain": [
              "array([0, 1, 2, 3, 4, 5, 6, 7, 8, 9])"
            ]
          },
          "metadata": {},
          "execution_count": 56
        }
      ]
    },
    {
      "cell_type": "code",
      "source": [
        "a.reshape(2, 5)"
      ],
      "metadata": {
        "colab": {
          "base_uri": "https://localhost:8080/"
        },
        "id": "I2HG40jZ7UsF",
        "outputId": "7c3b8d04-f706-4acc-b24c-19f64c0e6bec"
      },
      "execution_count": null,
      "outputs": [
        {
          "output_type": "execute_result",
          "data": {
            "text/plain": [
              "array([[0, 1, 2, 3, 4],\n",
              "       [5, 6, 7, 8, 9]])"
            ]
          },
          "metadata": {},
          "execution_count": 58
        }
      ]
    },
    {
      "cell_type": "code",
      "source": [
        "a.shape"
      ],
      "metadata": {
        "colab": {
          "base_uri": "https://localhost:8080/"
        },
        "id": "y7de45IT7Wnv",
        "outputId": "4e16cbba-2a5b-457b-e943-49e2adaf39a2"
      },
      "execution_count": null,
      "outputs": [
        {
          "output_type": "execute_result",
          "data": {
            "text/plain": [
              "(10,)"
            ]
          },
          "metadata": {},
          "execution_count": 59
        }
      ]
    },
    {
      "cell_type": "code",
      "source": [
        "b = a.reshape(2,5)\n",
        "b.shape"
      ],
      "metadata": {
        "colab": {
          "base_uri": "https://localhost:8080/"
        },
        "id": "pWhAv6Lh7cin",
        "outputId": "30a2e293-14f5-46e4-d9b9-42e8ef8903b1"
      },
      "execution_count": null,
      "outputs": [
        {
          "output_type": "execute_result",
          "data": {
            "text/plain": [
              "(2, 5)"
            ]
          },
          "metadata": {},
          "execution_count": 60
        }
      ]
    },
    {
      "cell_type": "markdown",
      "source": [
        "Appending elements, rows and columns to arrays:\n"
      ],
      "metadata": {
        "id": "8D7DDKP27ouh"
      }
    },
    {
      "cell_type": "code",
      "source": [
        "a = np.array([1, 2, 3])\n",
        "b = np.append(a, [4, 5, 6])\n",
        "b"
      ],
      "metadata": {
        "colab": {
          "base_uri": "https://localhost:8080/"
        },
        "id": "6rwvScN57hr2",
        "outputId": "16396a70-ccde-4182-caba-42c62ed9cfc9"
      },
      "execution_count": null,
      "outputs": [
        {
          "output_type": "execute_result",
          "data": {
            "text/plain": [
              "array([1, 2, 3, 4, 5, 6])"
            ]
          },
          "metadata": {},
          "execution_count": 61
        }
      ]
    },
    {
      "cell_type": "code",
      "source": [
        "a = np.array([[1, 2, 3], [4, 5, 6]])\n",
        "b = np.append(a, [[7, 8, 9]], axis = 0)\n",
        "b"
      ],
      "metadata": {
        "colab": {
          "base_uri": "https://localhost:8080/"
        },
        "id": "8nBPzyKo7x1a",
        "outputId": "7da7af60-7069-4a1d-8efc-93a89e52f59c"
      },
      "execution_count": null,
      "outputs": [
        {
          "output_type": "execute_result",
          "data": {
            "text/plain": [
              "array([[1, 2, 3],\n",
              "       [4, 5, 6],\n",
              "       [7, 8, 9]])"
            ]
          },
          "metadata": {},
          "execution_count": 64
        }
      ]
    },
    {
      "cell_type": "code",
      "source": [
        "c = np.append(a, [[7], [8]], axis = 1)\n",
        "c"
      ],
      "metadata": {
        "colab": {
          "base_uri": "https://localhost:8080/"
        },
        "id": "5mXCPyLV8Cdf",
        "outputId": "3bad9302-1dfd-4323-ad87-9d40fd3f08c8"
      },
      "execution_count": null,
      "outputs": [
        {
          "output_type": "execute_result",
          "data": {
            "text/plain": [
              "array([[1, 2, 3, 7],\n",
              "       [4, 5, 6, 8]])"
            ]
          },
          "metadata": {},
          "execution_count": 67
        }
      ]
    },
    {
      "cell_type": "markdown",
      "source": [
        "Deleting array elements, rows and columns:\n"
      ],
      "metadata": {
        "id": "U0y2oVM_8fmT"
      }
    },
    {
      "cell_type": "code",
      "source": [
        "a = np.array([[1, 2, 3],[4, 5, 6]])\n",
        "np.delete(a, 0)"
      ],
      "metadata": {
        "colab": {
          "base_uri": "https://localhost:8080/"
        },
        "id": "12AOxlU98Qno",
        "outputId": "6e1c5d40-602d-4c01-92f5-c8a774deeb6a"
      },
      "execution_count": null,
      "outputs": [
        {
          "output_type": "execute_result",
          "data": {
            "text/plain": [
              "array([2, 3, 4, 5, 6])"
            ]
          },
          "metadata": {},
          "execution_count": 68
        }
      ]
    },
    {
      "cell_type": "code",
      "source": [
        "np.delete(a, (0, 2, 4))"
      ],
      "metadata": {
        "colab": {
          "base_uri": "https://localhost:8080/"
        },
        "id": "TGdthJOP8igR",
        "outputId": "fa7f0603-e4d3-439d-fbf3-6f1bd77da3a7"
      },
      "execution_count": null,
      "outputs": [
        {
          "output_type": "execute_result",
          "data": {
            "text/plain": [
              "array([2, 4, 6])"
            ]
          },
          "metadata": {},
          "execution_count": 69
        }
      ]
    },
    {
      "cell_type": "markdown",
      "source": [
        "##Statistical methods of NumPy arrays:"
      ],
      "metadata": {
        "id": "OUrEw6R786Br"
      }
    },
    {
      "cell_type": "code",
      "source": [
        "a = np.arange(1, 11)"
      ],
      "metadata": {
        "id": "tjlaw_KD8nOo"
      },
      "execution_count": null,
      "outputs": []
    },
    {
      "cell_type": "code",
      "source": [
        "a.min()"
      ],
      "metadata": {
        "colab": {
          "base_uri": "https://localhost:8080/"
        },
        "id": "ZSMeEri19AM8",
        "outputId": "9747c63c-ca4d-42ce-f315-7edcf44ff93d"
      },
      "execution_count": null,
      "outputs": [
        {
          "output_type": "execute_result",
          "data": {
            "text/plain": [
              "1"
            ]
          },
          "metadata": {},
          "execution_count": 72
        }
      ]
    },
    {
      "cell_type": "code",
      "source": [
        "a.max()"
      ],
      "metadata": {
        "colab": {
          "base_uri": "https://localhost:8080/"
        },
        "id": "2Fts3Fga9BiQ",
        "outputId": "7650dc53-7dc6-4507-97b9-ef9f24e0f2d5"
      },
      "execution_count": null,
      "outputs": [
        {
          "output_type": "execute_result",
          "data": {
            "text/plain": [
              "10"
            ]
          },
          "metadata": {},
          "execution_count": 73
        }
      ]
    },
    {
      "cell_type": "code",
      "source": [
        "a.sum()"
      ],
      "metadata": {
        "colab": {
          "base_uri": "https://localhost:8080/"
        },
        "id": "yUVATrMO9FAO",
        "outputId": "f47175c1-28a2-43a4-9dd7-d0c71b4f8486"
      },
      "execution_count": null,
      "outputs": [
        {
          "output_type": "execute_result",
          "data": {
            "text/plain": [
              "55"
            ]
          },
          "metadata": {},
          "execution_count": 74
        }
      ]
    },
    {
      "cell_type": "code",
      "source": [
        "a.std()"
      ],
      "metadata": {
        "colab": {
          "base_uri": "https://localhost:8080/"
        },
        "id": "NZfcotGQ9GP0",
        "outputId": "0b22ffb4-7e89-44cb-8113-e2465264d411"
      },
      "execution_count": null,
      "outputs": [
        {
          "output_type": "execute_result",
          "data": {
            "text/plain": [
              "2.8722813232690143"
            ]
          },
          "metadata": {},
          "execution_count": 77
        }
      ]
    },
    {
      "cell_type": "code",
      "source": [
        "a.var()"
      ],
      "metadata": {
        "colab": {
          "base_uri": "https://localhost:8080/"
        },
        "id": "LgWmMmTt9HZg",
        "outputId": "8e5eb1c7-9121-45d9-b720-1785ed5f53d9"
      },
      "execution_count": null,
      "outputs": [
        {
          "output_type": "execute_result",
          "data": {
            "text/plain": [
              "8.25"
            ]
          },
          "metadata": {},
          "execution_count": 78
        }
      ]
    },
    {
      "cell_type": "code",
      "source": [
        "a.cumsum()"
      ],
      "metadata": {
        "colab": {
          "base_uri": "https://localhost:8080/"
        },
        "id": "FvuN5jtm9RSI",
        "outputId": "b09b7193-7bdf-4486-cdfb-2adea38cda49"
      },
      "execution_count": null,
      "outputs": [
        {
          "output_type": "execute_result",
          "data": {
            "text/plain": [
              "array([ 1,  3,  6, 10, 15, 21, 28, 36, 45, 55])"
            ]
          },
          "metadata": {},
          "execution_count": 79
        }
      ]
    },
    {
      "cell_type": "code",
      "source": [
        "y = np.arange(1,10)\n",
        "y = y.reshape((3,3))\n",
        "print(y)"
      ],
      "metadata": {
        "id": "KJw2Tf9g9UG5"
      },
      "execution_count": null,
      "outputs": []
    },
    {
      "cell_type": "code",
      "source": [
        "print(y.mean(axis=0))"
      ],
      "metadata": {
        "colab": {
          "base_uri": "https://localhost:8080/"
        },
        "id": "QJYoLTcr9cYV",
        "outputId": "4e643c4e-467e-4505-fa2a-05a72a6f8a1e"
      },
      "execution_count": null,
      "outputs": [
        {
          "output_type": "stream",
          "name": "stdout",
          "text": [
            "[4. 5. 6.]\n"
          ]
        }
      ]
    },
    {
      "cell_type": "code",
      "source": [
        "print(y.mean(axis=1))"
      ],
      "metadata": {
        "colab": {
          "base_uri": "https://localhost:8080/"
        },
        "id": "BuadjVdp9kSR",
        "outputId": "2a2627ab-10c4-489d-fe74-be824f885d5d"
      },
      "execution_count": null,
      "outputs": [
        {
          "output_type": "stream",
          "name": "stdout",
          "text": [
            "[2. 5. 8.]\n"
          ]
        }
      ]
    },
    {
      "cell_type": "code",
      "source": [
        "np.random.seed(123)\n",
        "a = np.random.randint(1, 11, size=1000)\n",
        "a"
      ],
      "metadata": {
        "colab": {
          "base_uri": "https://localhost:8080/"
        },
        "id": "Np788Ho09lv8",
        "outputId": "88d7164e-f7cb-4ac3-a988-b0d9e9f416d2"
      },
      "execution_count": null,
      "outputs": [
        {
          "output_type": "execute_result",
          "data": {
            "text/plain": [
              "array([ 3,  3,  7,  2,  4, 10,  7,  2,  1,  2, 10,  1,  1, 10,  4,  5,  1,\n",
              "        1,  5,  2,  8,  4,  3,  5,  8,  3,  5,  9,  1,  8, 10,  4,  5,  7,\n",
              "        2,  6,  7,  3,  2,  9,  4,  6,  1,  3,  7,  3,  5,  5,  7,  4,  1,\n",
              "        7,  5,  8,  7,  8,  2,  6,  8, 10,  3,  5,  9,  2,  3,  2,  2,  4,\n",
              "        6, 10,  1,  9,  2,  7,  4,  4,  6, 10,  8, 10,  3,  4,  4,  4,  9,\n",
              "        7, 10,  8,  7,  4, 10,  7,  7,  7,  2,  4,  5,  4,  2,  1,  6,  9,\n",
              "        7,  9, 10,  2,  1,  4,  2,  4,  5,  8,  7,  2,  5,  4,  4,  8,  7,\n",
              "        9,  7,  5,  5,  8,  1,  1, 10,  9,  9,  5,  9,  7,  2,  7,  9,  8,\n",
              "       10,  2,  8,  2,  8, 10,  9,  8,  2,  4,  2,  9,  8,  6,  2,  3,  6,\n",
              "        3,  3, 10,  4,  3,  7,  8, 10,  2,  4,  9,  4,  8, 10, 10,  4,  4,\n",
              "        6,  7,  1,  9,  8,  8,  5,  5,  6,  1,  9, 10,  3,  6,  2,  6, 10,\n",
              "        3,  5,  4,  1,  4,  8,  8,  3,  6,  2,  8,  6, 10,  2,  3,  9,  6,\n",
              "        1, 10,  4,  4,  4,  2,  8,  7,  4,  2,  8,  3,  7,  6, 10,  9, 10,\n",
              "        5,  8,  9,  6, 10,  3,  5,  4,  4,  2,  8,  9,  6,  8,  8,  8,  6,\n",
              "        1,  1,  9,  2,  1,  5,  6,  5,  6,  1,  8,  2,  3,  3,  8,  8,  4,\n",
              "        7,  2,  9,  5,  2,  7,  6, 10,  1,  4,  2,  4,  8,  8,  8,  6,  4,\n",
              "        7,  4,  6,  2,  6, 10,  2,  4, 10,  2,  6,  7,  2,  6,  1,  8,  1,\n",
              "        4,  1,  7,  3,  8,  6,  2,  1,  1,  3,  7,  6, 10,  2,  6,  4,  7,\n",
              "        5,  8,  2,  7,  1,  4,  2,  4,  1,  9,  6,  2,  5,  4,  3,  3,  1,\n",
              "        3,  1,  3,  8, 10,  1,  4, 10,  8,  1,  6,  5,  7,  1,  8,  9,  9,\n",
              "        2,  1,  2,  8,  6,  4,  1,  5,  9,  5, 10,  4,  6,  2,  9,  1, 10,\n",
              "        2,  6,  9,  9,  5,  7,  9,  8, 10,  3,  1,  1, 10, 10,  6,  4,  6,\n",
              "        6,  3,  3,  8,  4,  2,  4, 10,  4,  7,  3,  4,  2, 10,  9,  1,  3,\n",
              "        4,  8, 10,  3,  8, 10,  8,  2,  5,  8,  5,  8,  9,  1,  3,  8,  5,\n",
              "        4,  8,  4,  8,  1,  8,  7,  9,  7,  9,  1,  6,  4,  3,  5,  4,  4,\n",
              "       10,  8,  2,  9,  1,  2,  5,  8,  3,  5,  9,  4,  5, 10,  7,  3,  8,\n",
              "        8,  8,  5,  8,  9,  5,  1,  8,  7,  4,  5,  2,  2,  8,  3,  8,  9,\n",
              "       10,  5,  5,  5,  8,  8, 10, 10,  5,  2,  6,  6,  9, 10,  6,  2,  1,\n",
              "        7,  1, 10,  5,  7,  5,  6,  4,  5,  7,  3,  6,  3,  5,  4,  3,  5,\n",
              "        9,  1,  7,  9,  9,  6,  7,  6,  7,  1,  5, 10,  1,  9,  1,  6,  7,\n",
              "        7,  9,  9,  5,  5,  1,  2, 10,  1,  8,  6,  5,  8,  3,  4,  6,  6,\n",
              "        5,  3,  7, 10,  8, 10,  5, 10,  7,  6,  8,  4, 10,  2,  4, 10,  4,\n",
              "        9,  4,  6,  7,  8,  7,  6,  8,  2,  2,  7,  7,  5, 10,  1, 10,  4,\n",
              "        9,  6,  4,  4,  9,  8,  1,  2,  8,  3,  4,  6,  6,  1,  3,  6,  9,\n",
              "       10,  8, 10,  8,  5,  6,  2,  9,  7,  9,  5,  3,  8,  2,  7,  3,  7,\n",
              "        6,  7,  1,  4,  3,  3, 10,  8,  6,  6,  1,  1, 10,  4,  8,  2,  9,\n",
              "        3,  6,  1,  2,  1,  8,  8,  6,  9,  2,  6,  7,  8,  1,  7,  5,  2,\n",
              "        5,  3,  3,  2,  1, 10,  2,  2,  7,  7,  4, 10,  7,  8,  8,  7,  2,\n",
              "       10,  4,  8,  3,  4,  9,  1,  4,  4, 10,  9,  7,  4,  8,  6,  9,  5,\n",
              "        9,  6,  2,  8,  3,  8,  9,  2,  8,  2,  9,  2, 10,  3,  4,  5,  3,\n",
              "        1,  8,  6, 10,  9,  6,  1,  6,  6,  2,  4,  9,  1,  9,  1,  1, 10,\n",
              "        3,  6,  2,  3,  4,  1,  7,  8,  4, 10,  8, 10,  5,  9,  1, 10,  8,\n",
              "        1,  1,  3,  5, 10,  2, 10,  6,  9,  6,  7,  9,  5,  9,  5,  2,  4,\n",
              "        3,  8,  1,  7,  3,  8,  4,  7,  5,  3,  7, 10, 10,  5,  8,  1,  4,\n",
              "        4,  2,  3,  2,  4,  1,  5,  8,  5,  5,  8,  7,  4,  4, 10,  7,  8,\n",
              "        5, 10,  2,  8,  5,  1,  2,  3,  4, 10,  1,  7,  9,  3,  5,  2, 10,\n",
              "        7,  1,  4,  6,  3, 10,  7,  8, 10,  6,  8,  6,  5,  5,  8,  9,  1,\n",
              "        3,  3,  1,  8,  2,  2,  1,  3,  8,  6, 10,  4,  4,  7,  6,  5,  9,\n",
              "       10,  7,  5,  9,  1,  7,  5, 10,  1,  1,  6,  9,  1,  9,  2,  7,  5,\n",
              "        8,  3,  6,  5,  7,  4,  1,  5, 10, 10,  1,  3,  8,  7,  1,  4,  7,\n",
              "        5,  2,  6,  4,  9, 10,  1,  9, 10,  8,  3,  5,  1,  9,  4,  3,  4,\n",
              "        7,  3,  9,  6,  5,  5,  1,  1,  4,  9,  6,  5,  2,  5,  3,  2,  5,\n",
              "        2,  9,  2,  2,  8,  3,  9, 10,  9,  4,  4,  5,  4,  4,  7,  2,  7,\n",
              "        3,  8,  8,  1,  6,  5,  7,  2,  2,  5,  1,  8,  7,  9,  8,  7,  9,\n",
              "        3,  7,  5,  1,  6,  9,  7,  5,  3,  5,  1,  1,  6, 10,  1, 10,  9,\n",
              "        7,  6,  6,  4,  9,  2,  9,  4,  8,  9,  6, 10,  2,  5, 10,  4,  5,\n",
              "        5,  5,  1,  1,  7,  9,  5,  9,  1,  2,  8,  7,  3,  7,  5,  3,  5,\n",
              "        8,  6,  9,  2,  4,  4, 10,  2,  6,  6,  3,  5,  7, 10,  1, 10,  6,\n",
              "        4,  2,  8,  7,  6,  7,  3,  9,  2,  3,  5,  8, 10,  6])"
            ]
          },
          "metadata": {},
          "execution_count": 87
        }
      ]
    },
    {
      "cell_type": "code",
      "source": [
        "np.unique(a)"
      ],
      "metadata": {
        "colab": {
          "base_uri": "https://localhost:8080/"
        },
        "id": "yPpKiHah9y0Q",
        "outputId": "c53e3349-b607-4457-e0d4-f9e22c528038"
      },
      "execution_count": null,
      "outputs": [
        {
          "output_type": "execute_result",
          "data": {
            "text/plain": [
              "array([ 1,  2,  3,  4,  5,  6,  7,  8,  9, 10])"
            ]
          },
          "metadata": {},
          "execution_count": 88
        }
      ]
    },
    {
      "cell_type": "code",
      "source": [
        "np.median(a)"
      ],
      "metadata": {
        "colab": {
          "base_uri": "https://localhost:8080/"
        },
        "id": "gm9-tiQk9zvp",
        "outputId": "860b0d89-9015-479c-bd46-81634927144b"
      },
      "execution_count": null,
      "outputs": [
        {
          "output_type": "execute_result",
          "data": {
            "text/plain": [
              "5.0"
            ]
          },
          "metadata": {},
          "execution_count": 89
        }
      ]
    },
    {
      "cell_type": "code",
      "source": [
        "a.sum()"
      ],
      "metadata": {
        "colab": {
          "base_uri": "https://localhost:8080/"
        },
        "id": "T9Cg6Fsy-Pfv",
        "outputId": "4717ac97-7cfd-467b-ec71-e532b6185f55"
      },
      "execution_count": null,
      "outputs": [
        {
          "output_type": "execute_result",
          "data": {
            "text/plain": [
              "5485"
            ]
          },
          "metadata": {},
          "execution_count": 90
        }
      ]
    },
    {
      "cell_type": "code",
      "source": [
        "np.sum(a)"
      ],
      "metadata": {
        "colab": {
          "base_uri": "https://localhost:8080/"
        },
        "id": "v_ztcOr_-Uoq",
        "outputId": "67b78734-860e-4946-fc8d-f28121761d59"
      },
      "execution_count": null,
      "outputs": [
        {
          "output_type": "execute_result",
          "data": {
            "text/plain": [
              "5485"
            ]
          },
          "metadata": {},
          "execution_count": 91
        }
      ]
    },
    {
      "cell_type": "markdown",
      "source": [
        "Array Transposition"
      ],
      "metadata": {
        "id": "OBtA3UsD-qBf"
      }
    },
    {
      "cell_type": "code",
      "source": [
        "arr=np.arange(15).reshape((3,5))\n",
        "arr"
      ],
      "metadata": {
        "colab": {
          "base_uri": "https://localhost:8080/"
        },
        "id": "1OuJB6pi-Wlm",
        "outputId": "cff8be7a-a854-400d-bfd3-707c596b018d"
      },
      "execution_count": null,
      "outputs": [
        {
          "output_type": "execute_result",
          "data": {
            "text/plain": [
              "array([[ 0,  1,  2,  3,  4],\n",
              "       [ 5,  6,  7,  8,  9],\n",
              "       [10, 11, 12, 13, 14]])"
            ]
          },
          "metadata": {},
          "execution_count": 92
        }
      ]
    },
    {
      "cell_type": "code",
      "source": [
        "arr.T"
      ],
      "metadata": {
        "colab": {
          "base_uri": "https://localhost:8080/"
        },
        "id": "EYg_LTH1-1Ul",
        "outputId": "8361ffd7-2d06-4d83-e733-dd18f4a09189"
      },
      "execution_count": null,
      "outputs": [
        {
          "output_type": "execute_result",
          "data": {
            "text/plain": [
              "array([[ 0,  5, 10],\n",
              "       [ 1,  6, 11],\n",
              "       [ 2,  7, 12],\n",
              "       [ 3,  8, 13],\n",
              "       [ 4,  9, 14]])"
            ]
          },
          "metadata": {},
          "execution_count": 93
        }
      ]
    },
    {
      "cell_type": "code",
      "source": [
        "np.dot(arr.T, arr)"
      ],
      "metadata": {
        "colab": {
          "base_uri": "https://localhost:8080/"
        },
        "id": "BnQj9Hcb-2Jo",
        "outputId": "bea4cb30-6976-4d29-ab5b-40cf563fea57"
      },
      "execution_count": null,
      "outputs": [
        {
          "output_type": "execute_result",
          "data": {
            "text/plain": [
              "array([[125, 140, 155, 170, 185],\n",
              "       [140, 158, 176, 194, 212],\n",
              "       [155, 176, 197, 218, 239],\n",
              "       [170, 194, 218, 242, 266],\n",
              "       [185, 212, 239, 266, 293]])"
            ]
          },
          "metadata": {},
          "execution_count": 94
        }
      ]
    }
  ]
}